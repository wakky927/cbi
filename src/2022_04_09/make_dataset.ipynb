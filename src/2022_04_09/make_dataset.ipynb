{
 "cells": [
  {
   "cell_type": "code",
   "execution_count": 14,
   "outputs": [],
   "source": [
    "import numpy as np"
   ],
   "metadata": {
    "collapsed": false,
    "pycharm": {
     "name": "#%%\n"
    }
   }
  },
  {
   "cell_type": "code",
   "execution_count": 15,
   "outputs": [],
   "source": [
    "CSV = np.loadtxt(\"samples/tracer_coordinates.csv\", delimiter=\",\", skiprows=1, dtype=int)"
   ],
   "metadata": {
    "collapsed": false,
    "pycharm": {
     "name": "#%%\n"
    }
   }
  },
  {
   "cell_type": "code",
   "execution_count": 16,
   "outputs": [
    {
     "data": {
      "text/plain": "array([[  0, 171, 348],\n       [  1, 256, 400],\n       [  2, 312, 411],\n       [  3, 303, 432],\n       [  4, 505, 320],\n       [  5, 525, 421],\n       [  6, 611, 383],\n       [  7, 660, 452],\n       [  8, 314, 537],\n       [  9, 356, 523],\n       [ 10, 406, 507],\n       [ 11, 436, 499],\n       [ 12, 493, 503],\n       [ 13, 591, 575],\n       [ 14, 574, 605],\n       [ 15, 717, 598],\n       [ 16, 477, 643],\n       [ 17, 661, 655],\n       [ 18, 686, 687],\n       [ 19, 239, 717],\n       [ 20, 530, 713],\n       [ 21, 137, 755],\n       [ 22, 168, 763],\n       [ 23, 332, 756],\n       [ 24, 350, 760],\n       [ 25, 581, 816],\n       [ 26, 707, 848],\n       [ 27, 117, 812],\n       [ 28, 690, 881],\n       [ 29, 208, 360],\n       [ 30, 357, 349],\n       [ 31, 446, 328],\n       [ 32, 624, 385],\n       [ 33, 142, 428],\n       [ 34, 154, 450],\n       [ 35, 126, 481],\n       [ 36, 144, 484],\n       [ 37, 351, 444],\n       [ 38, 387, 426],\n       [ 39, 759, 595],\n       [ 40, 463, 674],\n       [ 41, 727, 666],\n       [ 42, 782, 653],\n       [ 43, 770, 701],\n       [ 44, 143, 730],\n       [ 45, 419, 727],\n       [ 46, 486, 732],\n       [ 47, 546, 730],\n       [ 48, 565, 724],\n       [ 49, 561, 739],\n       [ 50, 323, 782],\n       [ 51, 272, 844],\n       [ 52, 797, 819],\n       [ 53, 475, 920],\n       [ 54, 553, 375],\n       [ 55, 592, 413],\n       [ 56, 675, 411],\n       [ 57, 214, 471],\n       [ 58, 582, 493],\n       [ 59, 645, 506],\n       [ 60, 744, 472],\n       [ 61, 322, 538],\n       [ 62, 664, 535],\n       [ 63, 783, 513],\n       [ 64, 510, 592],\n       [ 65, 734, 662],\n       [ 66, 215, 794],\n       [ 67, 531, 795],\n       [ 68, 702, 751],\n       [ 69, 273, 862],\n       [ 70, 320, 853],\n       [ 71, 512, 819],\n       [ 72, 556, 814],\n       [ 73, 599, 827],\n       [ 74, 680, 795],\n       [ 75, 722, 809],\n       [ 76, 788, 781],\n       [ 77, 148, 875],\n       [ 78, 729, 848],\n       [ 79, 790, 839],\n       [ 80, 750, 878],\n       [ 81, 120, 346],\n       [ 82, 159, 353],\n       [ 83, 728, 337],\n       [ 84, 506, 393],\n       [ 85, 408, 463],\n       [ 86, 458, 489],\n       [ 87, 637, 468],\n       [ 88, 566, 515],\n       [ 89, 600, 525],\n       [ 90, 630, 517],\n       [ 91, 646, 501],\n       [ 92, 330, 586],\n       [ 93, 752, 605],\n       [ 94, 410, 631],\n       [ 95, 602, 632],\n       [ 96, 223, 722],\n       [ 97, 448, 710],\n       [ 98, 452, 733],\n       [ 99, 395, 755]])"
     },
     "execution_count": 16,
     "metadata": {},
     "output_type": "execute_result"
    }
   ],
   "source": [
    "CSV"
   ],
   "metadata": {
    "collapsed": false,
    "pycharm": {
     "name": "#%%\n"
    }
   }
  },
  {
   "cell_type": "code",
   "execution_count": 17,
   "outputs": [],
   "source": [
    "W, H = 1024, 1024  # img size\n",
    "w, h = 20, 20  # tracer img size"
   ],
   "metadata": {
    "collapsed": false,
    "pycharm": {
     "name": "#%%\n"
    }
   }
  },
  {
   "cell_type": "markdown",
   "source": [
    "## img 0 to 28"
   ],
   "metadata": {
    "collapsed": false,
    "pycharm": {
     "name": "#%% md\n"
    }
   }
  },
  {
   "cell_type": "code",
   "execution_count": 18,
   "outputs": [],
   "source": [
    "with open('images/0.txt', 'w') as f:\n",
    "        for i in range(0, 29):\n",
    "            ww, hh = CSV[i, 1:]\n",
    "            f.write(f\"0 {(ww+9.5)/W} {(hh+9.5)/H} {w/W} {h/H}\\n\")  # <ラベル> <矩形の中心座標x/画像幅> <矩形の中心座標y/画像高さ> <矩形の幅/画像幅> <矩形の高さ/画像高さ>"
   ],
   "metadata": {
    "collapsed": false,
    "pycharm": {
     "name": "#%%\n"
    }
   }
  },
  {
   "cell_type": "markdown",
   "source": [
    "## img 29 to 53"
   ],
   "metadata": {
    "collapsed": false,
    "pycharm": {
     "name": "#%% md\n"
    }
   }
  },
  {
   "cell_type": "code",
   "execution_count": 19,
   "outputs": [],
   "source": [
    "with open('images/1.txt', 'w') as f:\n",
    "        for i in range(29, 54):\n",
    "            ww, hh = CSV[i, 1:]\n",
    "            f.write(f\"0 {(ww+9.5)/W} {(hh+9.5)/H} {w/W} {h/H}\\n\")  # <ラベル> <矩形の中心座標x/画像幅> <矩形の中心座標y/画像高さ> <矩形の幅/画像幅> <矩形の高さ/画像高さ>"
   ],
   "metadata": {
    "collapsed": false,
    "pycharm": {
     "name": "#%%\n"
    }
   }
  },
  {
   "cell_type": "markdown",
   "source": [
    "## img 54 to 80"
   ],
   "metadata": {
    "collapsed": false,
    "pycharm": {
     "name": "#%% md\n"
    }
   }
  },
  {
   "cell_type": "code",
   "execution_count": 20,
   "outputs": [],
   "source": [
    "with open('images/2.txt', 'w') as f:\n",
    "        for i in range(54, 81):\n",
    "            ww, hh = CSV[i, 1:]\n",
    "            f.write(f\"0 {(ww+9.5)/W} {(hh+9.5)/H} {w/W} {h/H}\\n\")  # <ラベル> <矩形の中心座標x/画像幅> <矩形の中心座標y/画像高さ> <矩形の幅/画像幅> <矩形の高さ/画像高さ>"
   ],
   "metadata": {
    "collapsed": false,
    "pycharm": {
     "name": "#%%\n"
    }
   }
  },
  {
   "cell_type": "markdown",
   "source": [
    "## img 81 to 99"
   ],
   "metadata": {
    "collapsed": false,
    "pycharm": {
     "name": "#%% md\n"
    }
   }
  },
  {
   "cell_type": "code",
   "execution_count": 21,
   "outputs": [],
   "source": [
    "with open('images/3.txt', 'w') as f:\n",
    "        for i in range(81, 100):\n",
    "            ww, hh = CSV[i, 1:]\n",
    "            f.write(f\"0 {(ww+9.5)/W} {(hh+9.5)/H} {w/W} {h/H}\\n\")  # <ラベル> <矩形の中心座標x/画像幅> <矩形の中心座標y/画像高さ> <矩形の幅/画像幅> <矩形の高さ/画像高さ>"
   ],
   "metadata": {
    "collapsed": false,
    "pycharm": {
     "name": "#%%\n"
    }
   }
  }
 ],
 "metadata": {
  "kernelspec": {
   "display_name": "Python 3",
   "language": "python",
   "name": "python3"
  },
  "language_info": {
   "codemirror_mode": {
    "name": "ipython",
    "version": 2
   },
   "file_extension": ".py",
   "mimetype": "text/x-python",
   "name": "python",
   "nbconvert_exporter": "python",
   "pygments_lexer": "ipython2",
   "version": "2.7.6"
  }
 },
 "nbformat": 4,
 "nbformat_minor": 0
}