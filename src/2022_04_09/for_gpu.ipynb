{
 "cells": [
  {
   "cell_type": "code",
   "execution_count": 21,
   "metadata": {
    "collapsed": true
   },
   "outputs": [],
   "source": [
    "import cv2\n",
    "import numpy as np\n",
    "import torch\n",
    "import torch.nn.functional as F"
   ]
  },
  {
   "cell_type": "code",
   "execution_count": 35,
   "outputs": [],
   "source": [
    "@torch.no_grad()\n",
    "def match_template_torch(img, template):\n",
    "    img_tensor = torch.from_numpy(img).unsqueeze(dim=0).unsqueeze(dim=0).type(torch.float32)\n",
    "    template_tensor = torch.from_numpy(template).unsqueeze(dim=0).unsqueeze(dim=0).type(torch.float32)\n",
    "    result = match_template_torch_core(img_tensor, template_tensor)\n",
    "    return result.cpu().numpy()\n",
    "\n",
    "@torch.jit.script\n",
    "def match_template_torch_core(img_tensor, template_tensor):\n",
    "    result1 = torch.nn.functional.conv2d(img_tensor, template_tensor, bias=None, stride=1, padding=0)\n",
    "    result2 = torch.sqrt(torch.sum(template_tensor**2)* torch.nn.functional.conv2d(img_tensor**2, torch.ones_like(template_tensor), bias=None, stride=1, padding=0))\n",
    "\n",
    "    return (result1/result2).squeeze(0).squeeze(0)"
   ],
   "metadata": {
    "collapsed": false,
    "pycharm": {
     "name": "#%%\n"
    }
   }
  },
  {
   "cell_type": "code",
   "execution_count": 36,
   "outputs": [],
   "source": [
    "img_ndarray = np.arange(16).reshape(4, 4).astype(np.uint8)\n",
    "temp_ndarray = np.arange(4).reshape(2, 2).astype(np.uint8)\n",
    "img_ndarray_norm = np.linalg.norm(img_ndarray, ord=2)\n",
    "temp_ndarray_norm = np.linalg.norm(temp_ndarray, ord=2)"
   ],
   "metadata": {
    "collapsed": false,
    "pycharm": {
     "name": "#%%\n"
    }
   }
  },
  {
   "cell_type": "code",
   "execution_count": 40,
   "outputs": [
    {
     "data": {
      "text/plain": "array([[0.98974335, 0.9869275 , 0.9719086 ],\n       [0.94063413, 0.927731  , 0.9166985 ],\n       [0.8991574 , 0.8921426 , 0.8860286 ]], dtype=float32)"
     },
     "execution_count": 40,
     "metadata": {},
     "output_type": "execute_result"
    }
   ],
   "source": [
    "result_ndarray = cv2.matchTemplate(img_ndarray, temp_ndarray, cv2.TM_CCORR_NORMED)\n",
    "result_ndarray"
   ],
   "metadata": {
    "collapsed": false,
    "pycharm": {
     "name": "#%%\n"
    }
   }
  },
  {
   "cell_type": "code",
   "execution_count": 41,
   "outputs": [
    {
     "name": "stderr",
     "output_type": "stream",
     "text": [
      "[W NNPACK.cpp:79] Could not initialize NNPACK! Reason: Unsupported hardware.\n"
     ]
    },
    {
     "data": {
      "text/plain": "array([[0.98974335, 0.98692757, 0.9719086 ],\n       [0.94063413, 0.927731  , 0.9166985 ],\n       [0.8991574 , 0.8921426 , 0.88602865]], dtype=float32)"
     },
     "execution_count": 41,
     "metadata": {},
     "output_type": "execute_result"
    }
   ],
   "source": [
    "result_tensor = match_template_torch(img=img_ndarray, template=temp_ndarray)\n",
    "result_tensor"
   ],
   "metadata": {
    "collapsed": false,
    "pycharm": {
     "name": "#%%\n"
    }
   }
  },
  {
   "cell_type": "code",
   "execution_count": null,
   "outputs": [],
   "source": [],
   "metadata": {
    "collapsed": false,
    "pycharm": {
     "name": "#%%\n"
    }
   }
  }
 ],
 "metadata": {
  "kernelspec": {
   "display_name": "Python 3",
   "language": "python",
   "name": "python3"
  },
  "language_info": {
   "codemirror_mode": {
    "name": "ipython",
    "version": 2
   },
   "file_extension": ".py",
   "mimetype": "text/x-python",
   "name": "python",
   "nbconvert_exporter": "python",
   "pygments_lexer": "ipython2",
   "version": "2.7.6"
  }
 },
 "nbformat": 4,
 "nbformat_minor": 0
}