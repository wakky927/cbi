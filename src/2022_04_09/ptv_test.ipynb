{
 "cells": [
  {
   "cell_type": "code",
   "execution_count": 1,
   "metadata": {
    "collapsed": true
   },
   "outputs": [],
   "source": [
    "from collections import deque\n",
    "\n",
    "import numpy as np\n",
    "import matplotlib.pyplot as plt"
   ]
  },
  {
   "cell_type": "code",
   "execution_count": 2,
   "outputs": [],
   "source": [
    "CSV_DIR = \"C001H001S0002/\"\n",
    "data_list = deque([None, None, None, None])"
   ],
   "metadata": {
    "collapsed": false,
    "pycharm": {
     "name": "#%%\n"
    }
   }
  },
  {
   "cell_type": "code",
   "execution_count": 3,
   "outputs": [],
   "source": [
    "r = []"
   ],
   "metadata": {
    "collapsed": false,
    "pycharm": {
     "name": "#%%\n"
    }
   }
  },
  {
   "cell_type": "code",
   "execution_count": 4,
   "outputs": [],
   "source": [
    "s1, s2 = 20, 14  # 1st, 2nd search window\n",
    "eta = 13 / np.pi / 180  # criterion on angle"
   ],
   "metadata": {
    "collapsed": false,
    "pycharm": {
     "name": "#%%\n"
    }
   }
  },
  {
   "cell_type": "code",
   "execution_count": 5,
   "outputs": [],
   "source": [
    "class Vector2D(object):\n",
    "    def __init__(self, idx):\n",
    "        self.idx = idx\n",
    "        self.x = 0.0\n",
    "        self.y = 0.0\n",
    "\n",
    "\n",
    "class Gap(object):\n",
    "    def __init__(self, idx):\n",
    "        self.idx = idx\n",
    "        self.gap = 0.0\n",
    "        self.angle = 0.0\n",
    "\n",
    "\n",
    "class TP(object):\n",
    "    def __init__(self, idx):\n",
    "        self.idx = idx\n",
    "        self.p1 = 0\n",
    "        self.p2 = 0\n",
    "        self.err = 0.0\n",
    "        self.flag = False"
   ],
   "metadata": {
    "collapsed": false,
    "pycharm": {
     "name": "#%%\n"
    }
   }
  },
  {
   "cell_type": "code",
   "execution_count": 6,
   "outputs": [],
   "source": [
    "def calc_gap(dx1, dx2):\n",
    "    gx = Vector2D\n",
    "    dst = Gap\n",
    "\n",
    "    gx.x = dx2.x - dx1.x\n",
    "    gx.y = dx2.y - dx1.y\n",
    "    dst.gap = np.sqrt(gx.x ** 2 + gx.y ** 2)\n",
    "\n",
    "    in_prod = dx1.x * dx2.x + dx1.y * dx2.y\n",
    "    in_prod /= np.sqrt(dx1.x ** 2 + dx1.y ** 2) * np.sqrt(dx2.x ** 2 + dx2.y ** 2)\n",
    "    if in_prod > 1.0: in_prod /= np.abs(in_prod)\n",
    "\n",
    "    dst.angle = np.arccos(in_prod)\n",
    "\n",
    "    out_prod = dx1.x * dx2.y - dx1.y * dx2.x\n",
    "    if out_prod < 0: dst.angle *= -1\n",
    "\n",
    "    return dst, in_prod, out_prod\n",
    "\n",
    "def calc_rot(dx, a):\n",
    "    dx_rot = Vector2D\n",
    "\n",
    "    dx_rot.x=dx.x*np.cos(a)-dx.y*np.sin(a)\n",
    "    dx_rot.y=dx.x*np.sin(a)+dx.y*np.cos(a)\n",
    "\n",
    "    return  dx_rot"
   ],
   "metadata": {
    "collapsed": false,
    "pycharm": {
     "name": "#%%\n"
    }
   }
  },
  {
   "cell_type": "code",
   "execution_count": 7,
   "outputs": [
    {
     "name": "stdout",
     "output_type": "stream",
     "text": [
      "The number for tracking the same particle: 0\n",
      "The number of remaining particle by post processing: -1\n",
      "\n",
      "The number for tracking the same particle: 0\n",
      "The number of remaining particle by post processing: -1\n",
      "\n",
      "The number for tracking the same particle: 0\n",
      "The number of remaining particle by post processing: -1\n",
      "\n",
      "The number for tracking the same particle: 0\n",
      "The number of remaining particle by post processing: -1\n",
      "\n",
      "The number for tracking the same particle: 0\n",
      "The number of remaining particle by post processing: -1\n",
      "\n",
      "The number for tracking the same particle: 0\n",
      "The number of remaining particle by post processing: -1\n",
      "\n",
      "The number for tracking the same particle: 0\n",
      "The number of remaining particle by post processing: -1\n",
      "\n"
     ]
    },
    {
     "name": "stderr",
     "output_type": "stream",
     "text": [
      "/Users/loblium/opt/anaconda3/envs/venv/lib/python3.7/site-packages/ipykernel_launcher.py:10: RuntimeWarning: invalid value encountered in double_scalars\n",
      "  # Remove the CWD from sys.path while we load stuff.\n"
     ]
    }
   ],
   "source": [
    "def ptv4t(img):\n",
    "    pp0, pp1, pp2, pp3 = img[0], img[1], img[2], img[3]\n",
    "\n",
    "    if pp0 is None or pp1 is None or pp2 is None or pp3 is None:\n",
    "        return None\n",
    "\n",
    "    result = np.zeros([pp0.shape[0], 4])\n",
    "\n",
    "    dx = [Vector2D(idx=x) for x in range(3)]\n",
    "    dst = [Gap(idx=x) for x in range(2)]\n",
    "    pp12 = [TP(idx=x) for x in range(pp0.shape[0])]\n",
    "    npa = -1  # the number of available particle\n",
    "    ntsp = 0  # the number for tracking the same particle\n",
    "\n",
    "    # 4 times tracking\n",
    "    for ii in range(pp0.shape[0]):  # 1st\n",
    "        flag = True  # init flag for the particle tracking\n",
    "        cf, cfc = 1e10, 1e10  # arbitrary large number\n",
    "\n",
    "        for jj in range(pp1.shape[0]):  # 2nd\n",
    "            dx[0].x = pp1[jj][0] - pp0[ii][0]\n",
    "            dx[0].y = pp1[jj][1] - pp0[ii][1]\n",
    "\n",
    "            if np.sqrt(dx[0].x ** 2 + dx[0].y ** 2) <= s1:\n",
    "                for kk in range(pp2.shape[0]):  # 3rd\n",
    "                    dx[1].x = pp2[kk][0] - pp1[jj][0]\n",
    "                    dx[1].y = pp2[kk][1] - pp1[jj][1]\n",
    "\n",
    "                    dst[0], ip0, op0 = calc_gap(dx[0], dx[1])\n",
    "                    dx[1] = calc_rot(dx[1], dst[0].angle)  # rot of diff vector\n",
    "\n",
    "                    if dst[0].gap <= s2 and np.abs(dst[0].angle) <= eta:\n",
    "                        for ll in range(pp3.shape[0]):  # 4th\n",
    "                            dx[2].x = pp3[ll][0] - pp2[kk][0]\n",
    "                            dx[2].y = pp3[ll][1] - pp2[kk][1]\n",
    "\n",
    "                            dst[1], ip1, op1 = calc_gap(dx[1], dx[2])\n",
    "                            cfc = dst[0].gap ** 2 + dst[1].gap ** 2\n",
    "\n",
    "                            if dst[0].gap <= s2 and np.abs(dst[0].angle) <= eta and cfc < cf:\n",
    "                                cf = cfc\n",
    "                                if flag: npa += 1\n",
    "\n",
    "                                pp12[npa].p1 = ii\n",
    "                                pp12[npa].p2 = jj\n",
    "                                pp12[npa].err = cf\n",
    "                                pp12[npa].flag = True\n",
    "                                flag = False\n",
    "    # post-processing\n",
    "    # If different particles track the same particle,\n",
    "    # giving an error flag to particle which has larger error.\n",
    "    for ii in range(npa):\n",
    "        if pp12[ii].flag:\n",
    "            for jj in range(ii+1, npa):\n",
    "                if pp12[ii].p2 == pp12[jj].p2:\n",
    "                    if pp12[ii].err > pp12[jj].err:\n",
    "                        pp12[ii].flag = False\n",
    "                        ntsp += 1\n",
    "                        break\n",
    "                    else:\n",
    "                        pp12[jj].flag = False\n",
    "                        ntsp += 1\n",
    "\n",
    "    print(f\"The number for tracking the same particle: {ntsp}\")\n",
    "    print(f\"The number of remaining particle by post processing: {npa - ntsp}\\n\")\n",
    "\n",
    "    for ii in range(npa):\n",
    "        if pp12[ii].flag:\n",
    "            result[ii][0] = pp0[pp12[ii].p1][0]\n",
    "            result[ii][1] = pp0[pp12[ii].p1][1]\n",
    "            result[ii][2] = pp1[pp12[ii].p2][0] - pp0[pp12[ii].p1][0]\n",
    "            result[ii][3] = pp1[pp12[ii].p2][1] - pp0[pp12[ii].p1][1]\n",
    "\n",
    "    return result[:npa]\n",
    "\n",
    "\n",
    "for i in range(3000, 3100, 10):\n",
    "    data_list.popleft()\n",
    "    tmp = np.loadtxt(CSV_DIR + f\"{i:06}.csv\", delimiter=',', skiprows=1)\n",
    "    data_list.append(tmp)\n",
    "\n",
    "    r.append(ptv4t(img=data_list))"
   ],
   "metadata": {
    "collapsed": false,
    "pycharm": {
     "name": "#%%\n"
    }
   }
  },
  {
   "cell_type": "code",
   "execution_count": 8,
   "outputs": [
    {
     "data": {
      "text/plain": "array([[0., 0., 0., 0.],\n       [0., 0., 0., 0.],\n       [0., 0., 0., 0.],\n       [0., 0., 0., 0.],\n       [0., 0., 0., 0.],\n       [0., 0., 0., 0.],\n       [0., 0., 0., 0.],\n       [0., 0., 0., 0.],\n       [0., 0., 0., 0.],\n       [0., 0., 0., 0.],\n       [0., 0., 0., 0.],\n       [0., 0., 0., 0.],\n       [0., 0., 0., 0.],\n       [0., 0., 0., 0.],\n       [0., 0., 0., 0.],\n       [0., 0., 0., 0.],\n       [0., 0., 0., 0.],\n       [0., 0., 0., 0.],\n       [0., 0., 0., 0.],\n       [0., 0., 0., 0.],\n       [0., 0., 0., 0.],\n       [0., 0., 0., 0.],\n       [0., 0., 0., 0.],\n       [0., 0., 0., 0.]])"
     },
     "execution_count": 8,
     "metadata": {},
     "output_type": "execute_result"
    }
   ],
   "source": [
    "r[5]"
   ],
   "metadata": {
    "collapsed": false,
    "pycharm": {
     "name": "#%%\n"
    }
   }
  },
  {
   "cell_type": "code",
   "execution_count": 8,
   "outputs": [],
   "source": [],
   "metadata": {
    "collapsed": false,
    "pycharm": {
     "name": "#%%\n"
    }
   }
  }
 ],
 "metadata": {
  "kernelspec": {
   "display_name": "Python 3",
   "language": "python",
   "name": "python3"
  },
  "language_info": {
   "codemirror_mode": {
    "name": "ipython",
    "version": 2
   },
   "file_extension": ".py",
   "mimetype": "text/x-python",
   "name": "python",
   "nbconvert_exporter": "python",
   "pygments_lexer": "ipython2",
   "version": "2.7.6"
  }
 },
 "nbformat": 4,
 "nbformat_minor": 0
}