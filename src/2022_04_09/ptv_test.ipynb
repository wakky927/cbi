{
 "cells": [
  {
   "cell_type": "code",
   "execution_count": 68,
   "metadata": {
    "collapsed": true
   },
   "outputs": [],
   "source": [
    "from collections import deque\n",
    "\n",
    "import numpy as np\n",
    "import matplotlib.pyplot as plt"
   ]
  },
  {
   "cell_type": "code",
   "execution_count": 76,
   "outputs": [],
   "source": [
    "CSV_DIR = \"C001H001S0002/\"\n",
    "data_list = deque([None, None, None, None])"
   ],
   "metadata": {
    "collapsed": false,
    "pycharm": {
     "name": "#%%\n"
    }
   }
  },
  {
   "cell_type": "code",
   "execution_count": 70,
   "outputs": [],
   "source": [
    "r = []"
   ],
   "metadata": {
    "collapsed": false,
    "pycharm": {
     "name": "#%%\n"
    }
   }
  },
  {
   "cell_type": "code",
   "execution_count": 71,
   "outputs": [],
   "source": [
    "s1, s2 = 20, 14  # 1st, 2nd search window\n",
    "eta = 13 / np.pi / 180  # criterion on angle"
   ],
   "metadata": {
    "collapsed": false,
    "pycharm": {
     "name": "#%%\n"
    }
   }
  },
  {
   "cell_type": "code",
   "execution_count": 72,
   "outputs": [],
   "source": [
    "class Vector2D(object):\n",
    "    def __init__(self):\n",
    "        self.x = 0.0\n",
    "        self.y = 0.0\n",
    "\n",
    "\n",
    "class Gap(object):\n",
    "    def __init__(self):\n",
    "        self.gap = 0.0\n",
    "        self.angle = 0.0\n",
    "\n",
    "\n",
    "class TP(object):\n",
    "    def __init__(self):\n",
    "        self.p1 = 0\n",
    "        self.p2 = 0\n",
    "        self.err = 0.0\n",
    "        self.flag = False"
   ],
   "metadata": {
    "collapsed": false,
    "pycharm": {
     "name": "#%%\n"
    }
   }
  },
  {
   "cell_type": "code",
   "execution_count": 73,
   "outputs": [],
   "source": [
    "def calc_gap(dx1, dx2):\n",
    "    gx = Vector2D\n",
    "    dst = Gap\n",
    "\n",
    "    gx.x = dx2.x - dx1.x\n",
    "    gx.y = dx2.y - dx1.y\n",
    "    dst.gap = np.sqrt(gx.x ** 2 + gx.y ** 2)\n",
    "\n",
    "    in_prod = dx1.x * dx2.x + dx1.y * dx2.y\n",
    "    in_prod /= np.sqrt(dx1.x ** 2 + dx1.y ** 2) * np.sqrt(dx2.x ** 2 + dx2.y ** 2)\n",
    "    if in_prod > 1.0: in_prod /= np.abs(in_prod)\n",
    "\n",
    "    dst.angle = np.arccos(in_prod)\n",
    "\n",
    "    out_prod = dx1.x * dx2.y - dx1.y * dx2.x\n",
    "    if out_prod < 0: dst.angle *= -1\n",
    "\n",
    "    return dst, in_prod, out_prod\n",
    "\n",
    "def calc_rot(dx, a):\n",
    "    dx_rot = Vector2D\n",
    "\n",
    "    dx_rot.x=dx.x*np.cos(a)-dx.y*np.sin(a)\n",
    "    dx_rot.y=dx.x*np.sin(a)+dx.y*np.cos(a)\n",
    "\n",
    "    return  dx_rot"
   ],
   "metadata": {
    "collapsed": false,
    "pycharm": {
     "name": "#%%\n"
    }
   }
  },
  {
   "cell_type": "code",
   "execution_count": 77,
   "outputs": [
    {
     "name": "stderr",
     "output_type": "stream",
     "text": [
      "/Users/loblium/opt/anaconda3/envs/venv/lib/python3.7/site-packages/ipykernel_launcher.py:10: RuntimeWarning: invalid value encountered in double_scalars\n",
      "  # Remove the CWD from sys.path while we load stuff.\n"
     ]
    },
    {
     "name": "stdout",
     "output_type": "stream",
     "text": [
      "The number for tracking the same particle: 0\n",
      "The number of remaining particle by post processing: -1\n",
      "\n",
      "The number for tracking the same particle: 0\n",
      "The number of remaining particle by post processing: -1\n",
      "\n"
     ]
    },
    {
     "ename": "KeyboardInterrupt",
     "evalue": "",
     "output_type": "error",
     "traceback": [
      "\u001B[0;31m---------------------------------------------------------------------------\u001B[0m",
      "\u001B[0;31mKeyboardInterrupt\u001B[0m                         Traceback (most recent call last)",
      "\u001B[0;32m/var/folders/75/dz10lh0n0yj1snrsvfbf3_9m0000gn/T/ipykernel_75542/820573801.py\u001B[0m in \u001B[0;36m<module>\u001B[0;34m\u001B[0m\n\u001B[1;32m     80\u001B[0m     \u001B[0mdata_list\u001B[0m\u001B[0;34m.\u001B[0m\u001B[0mappend\u001B[0m\u001B[0;34m(\u001B[0m\u001B[0mtmp\u001B[0m\u001B[0;34m)\u001B[0m\u001B[0;34m\u001B[0m\u001B[0;34m\u001B[0m\u001B[0m\n\u001B[1;32m     81\u001B[0m \u001B[0;34m\u001B[0m\u001B[0m\n\u001B[0;32m---> 82\u001B[0;31m     \u001B[0mr\u001B[0m\u001B[0;34m.\u001B[0m\u001B[0mappend\u001B[0m\u001B[0;34m(\u001B[0m\u001B[0mptv4t\u001B[0m\u001B[0;34m(\u001B[0m\u001B[0mimg\u001B[0m\u001B[0;34m=\u001B[0m\u001B[0mdata_list\u001B[0m\u001B[0;34m)\u001B[0m\u001B[0;34m)\u001B[0m\u001B[0;34m\u001B[0m\u001B[0;34m\u001B[0m\u001B[0m\n\u001B[0m",
      "\u001B[0;32m/var/folders/75/dz10lh0n0yj1snrsvfbf3_9m0000gn/T/ipykernel_75542/820573801.py\u001B[0m in \u001B[0;36mptv4t\u001B[0;34m(img)\u001B[0m\n\u001B[1;32m     27\u001B[0m                     \u001B[0mdx\u001B[0m\u001B[0;34m[\u001B[0m\u001B[0;36m1\u001B[0m\u001B[0;34m]\u001B[0m\u001B[0;34m.\u001B[0m\u001B[0my\u001B[0m \u001B[0;34m=\u001B[0m \u001B[0mpp2\u001B[0m\u001B[0;34m[\u001B[0m\u001B[0mkk\u001B[0m\u001B[0;34m]\u001B[0m\u001B[0;34m[\u001B[0m\u001B[0;36m1\u001B[0m\u001B[0;34m]\u001B[0m \u001B[0;34m-\u001B[0m \u001B[0mpp1\u001B[0m\u001B[0;34m[\u001B[0m\u001B[0mjj\u001B[0m\u001B[0;34m]\u001B[0m\u001B[0;34m[\u001B[0m\u001B[0;36m1\u001B[0m\u001B[0;34m]\u001B[0m\u001B[0;34m\u001B[0m\u001B[0;34m\u001B[0m\u001B[0m\n\u001B[1;32m     28\u001B[0m \u001B[0;34m\u001B[0m\u001B[0m\n\u001B[0;32m---> 29\u001B[0;31m                     \u001B[0mdst\u001B[0m\u001B[0;34m[\u001B[0m\u001B[0;36m0\u001B[0m\u001B[0;34m]\u001B[0m\u001B[0;34m,\u001B[0m \u001B[0mip0\u001B[0m\u001B[0;34m,\u001B[0m \u001B[0mop0\u001B[0m \u001B[0;34m=\u001B[0m \u001B[0mcalc_gap\u001B[0m\u001B[0;34m(\u001B[0m\u001B[0mdx\u001B[0m\u001B[0;34m[\u001B[0m\u001B[0;36m0\u001B[0m\u001B[0;34m]\u001B[0m\u001B[0;34m,\u001B[0m \u001B[0mdx\u001B[0m\u001B[0;34m[\u001B[0m\u001B[0;36m1\u001B[0m\u001B[0;34m]\u001B[0m\u001B[0;34m)\u001B[0m\u001B[0;34m\u001B[0m\u001B[0;34m\u001B[0m\u001B[0m\n\u001B[0m\u001B[1;32m     30\u001B[0m                     \u001B[0mdx\u001B[0m\u001B[0;34m[\u001B[0m\u001B[0;36m1\u001B[0m\u001B[0;34m]\u001B[0m \u001B[0;34m=\u001B[0m \u001B[0mcalc_rot\u001B[0m\u001B[0;34m(\u001B[0m\u001B[0mdx\u001B[0m\u001B[0;34m[\u001B[0m\u001B[0;36m1\u001B[0m\u001B[0;34m]\u001B[0m\u001B[0;34m,\u001B[0m \u001B[0mdst\u001B[0m\u001B[0;34m[\u001B[0m\u001B[0;36m0\u001B[0m\u001B[0;34m]\u001B[0m\u001B[0;34m.\u001B[0m\u001B[0mangle\u001B[0m\u001B[0;34m)\u001B[0m  \u001B[0;31m# rot of diff vector\u001B[0m\u001B[0;34m\u001B[0m\u001B[0;34m\u001B[0m\u001B[0m\n\u001B[1;32m     31\u001B[0m \u001B[0;34m\u001B[0m\u001B[0m\n",
      "\u001B[0;32m/var/folders/75/dz10lh0n0yj1snrsvfbf3_9m0000gn/T/ipykernel_75542/774116192.py\u001B[0m in \u001B[0;36mcalc_gap\u001B[0;34m(dx1, dx2)\u001B[0m\n\u001B[1;32m      1\u001B[0m \u001B[0;32mdef\u001B[0m \u001B[0mcalc_gap\u001B[0m\u001B[0;34m(\u001B[0m\u001B[0mdx1\u001B[0m\u001B[0;34m,\u001B[0m \u001B[0mdx2\u001B[0m\u001B[0;34m)\u001B[0m\u001B[0;34m:\u001B[0m\u001B[0;34m\u001B[0m\u001B[0;34m\u001B[0m\u001B[0m\n\u001B[0;32m----> 2\u001B[0;31m     \u001B[0mgx\u001B[0m \u001B[0;34m=\u001B[0m \u001B[0mVector2D\u001B[0m\u001B[0;34m\u001B[0m\u001B[0;34m\u001B[0m\u001B[0m\n\u001B[0m\u001B[1;32m      3\u001B[0m     \u001B[0mdst\u001B[0m \u001B[0;34m=\u001B[0m \u001B[0mGap\u001B[0m\u001B[0;34m\u001B[0m\u001B[0;34m\u001B[0m\u001B[0m\n\u001B[1;32m      4\u001B[0m \u001B[0;34m\u001B[0m\u001B[0m\n\u001B[1;32m      5\u001B[0m     \u001B[0mgx\u001B[0m\u001B[0;34m.\u001B[0m\u001B[0mx\u001B[0m \u001B[0;34m=\u001B[0m \u001B[0mdx2\u001B[0m\u001B[0;34m.\u001B[0m\u001B[0mx\u001B[0m \u001B[0;34m-\u001B[0m \u001B[0mdx1\u001B[0m\u001B[0;34m.\u001B[0m\u001B[0mx\u001B[0m\u001B[0;34m\u001B[0m\u001B[0;34m\u001B[0m\u001B[0m\n",
      "\u001B[0;32m/var/folders/75/dz10lh0n0yj1snrsvfbf3_9m0000gn/T/ipykernel_75542/774116192.py\u001B[0m in \u001B[0;36mcalc_gap\u001B[0;34m(dx1, dx2)\u001B[0m\n\u001B[1;32m      1\u001B[0m \u001B[0;32mdef\u001B[0m \u001B[0mcalc_gap\u001B[0m\u001B[0;34m(\u001B[0m\u001B[0mdx1\u001B[0m\u001B[0;34m,\u001B[0m \u001B[0mdx2\u001B[0m\u001B[0;34m)\u001B[0m\u001B[0;34m:\u001B[0m\u001B[0;34m\u001B[0m\u001B[0;34m\u001B[0m\u001B[0m\n\u001B[0;32m----> 2\u001B[0;31m     \u001B[0mgx\u001B[0m \u001B[0;34m=\u001B[0m \u001B[0mVector2D\u001B[0m\u001B[0;34m\u001B[0m\u001B[0;34m\u001B[0m\u001B[0m\n\u001B[0m\u001B[1;32m      3\u001B[0m     \u001B[0mdst\u001B[0m \u001B[0;34m=\u001B[0m \u001B[0mGap\u001B[0m\u001B[0;34m\u001B[0m\u001B[0;34m\u001B[0m\u001B[0m\n\u001B[1;32m      4\u001B[0m \u001B[0;34m\u001B[0m\u001B[0m\n\u001B[1;32m      5\u001B[0m     \u001B[0mgx\u001B[0m\u001B[0;34m.\u001B[0m\u001B[0mx\u001B[0m \u001B[0;34m=\u001B[0m \u001B[0mdx2\u001B[0m\u001B[0;34m.\u001B[0m\u001B[0mx\u001B[0m \u001B[0;34m-\u001B[0m \u001B[0mdx1\u001B[0m\u001B[0;34m.\u001B[0m\u001B[0mx\u001B[0m\u001B[0;34m\u001B[0m\u001B[0;34m\u001B[0m\u001B[0m\n",
      "\u001B[0;32m_pydevd_bundle/pydevd_cython_darwin_37_64.pyx\u001B[0m in \u001B[0;36m_pydevd_bundle.pydevd_cython_darwin_37_64.SafeCallWrapper.__call__\u001B[0;34m()\u001B[0m\n",
      "\u001B[0;32m_pydevd_bundle/pydevd_cython_darwin_37_64.pyx\u001B[0m in \u001B[0;36m_pydevd_bundle.pydevd_cython_darwin_37_64.PyDBFrame.trace_dispatch\u001B[0;34m()\u001B[0m\n",
      "\u001B[0;32m_pydevd_bundle/pydevd_cython_darwin_37_64.pyx\u001B[0m in \u001B[0;36m_pydevd_bundle.pydevd_cython_darwin_37_64.PyDBFrame.trace_dispatch\u001B[0;34m()\u001B[0m\n",
      "\u001B[0;32m_pydevd_bundle/pydevd_cython_darwin_37_64.pyx\u001B[0m in \u001B[0;36m_pydevd_bundle.pydevd_cython_darwin_37_64.PyDBFrame.trace_dispatch\u001B[0;34m()\u001B[0m\n",
      "\u001B[0;32m/Applications/PyCharm.app/Contents/plugins/python/helpers-pro/jupyter_debug/pydev_jupyter_plugin.py\u001B[0m in \u001B[0;36mstop\u001B[0;34m(plugin, pydb, frame, event, args, stop_info, arg, step_cmd)\u001B[0m\n\u001B[1;32m    163\u001B[0m         \u001B[0mframe\u001B[0m \u001B[0;34m=\u001B[0m \u001B[0msuspend_jupyter\u001B[0m\u001B[0;34m(\u001B[0m\u001B[0mmain_debugger\u001B[0m\u001B[0;34m,\u001B[0m \u001B[0mthread\u001B[0m\u001B[0;34m,\u001B[0m \u001B[0mframe\u001B[0m\u001B[0;34m,\u001B[0m \u001B[0mstep_cmd\u001B[0m\u001B[0;34m)\u001B[0m\u001B[0;34m\u001B[0m\u001B[0;34m\u001B[0m\u001B[0m\n\u001B[1;32m    164\u001B[0m         \u001B[0;32mif\u001B[0m \u001B[0mframe\u001B[0m\u001B[0;34m:\u001B[0m\u001B[0;34m\u001B[0m\u001B[0;34m\u001B[0m\u001B[0m\n\u001B[0;32m--> 165\u001B[0;31m             \u001B[0mmain_debugger\u001B[0m\u001B[0;34m.\u001B[0m\u001B[0mdo_wait_suspend\u001B[0m\u001B[0;34m(\u001B[0m\u001B[0mthread\u001B[0m\u001B[0;34m,\u001B[0m \u001B[0mframe\u001B[0m\u001B[0;34m,\u001B[0m \u001B[0mevent\u001B[0m\u001B[0;34m,\u001B[0m \u001B[0marg\u001B[0m\u001B[0;34m)\u001B[0m\u001B[0;34m\u001B[0m\u001B[0;34m\u001B[0m\u001B[0m\n\u001B[0m\u001B[1;32m    166\u001B[0m             \u001B[0;32mreturn\u001B[0m \u001B[0;32mTrue\u001B[0m\u001B[0;34m\u001B[0m\u001B[0;34m\u001B[0m\u001B[0m\n\u001B[1;32m    167\u001B[0m     \u001B[0;32mreturn\u001B[0m \u001B[0;32mFalse\u001B[0m\u001B[0;34m\u001B[0m\u001B[0;34m\u001B[0m\u001B[0m\n",
      "\u001B[0;32m/Applications/PyCharm.app/Contents/plugins/python/helpers/pydev/pydevd.py\u001B[0m in \u001B[0;36mdo_wait_suspend\u001B[0;34m(self, thread, frame, event, arg, send_suspend_message, is_unhandled_exception)\u001B[0m\n\u001B[1;32m   1145\u001B[0m \u001B[0;34m\u001B[0m\u001B[0m\n\u001B[1;32m   1146\u001B[0m         \u001B[0;32mwith\u001B[0m \u001B[0mself\u001B[0m\u001B[0;34m.\u001B[0m\u001B[0m_threads_suspended_single_notification\u001B[0m\u001B[0;34m.\u001B[0m\u001B[0mnotify_thread_suspended\u001B[0m\u001B[0;34m(\u001B[0m\u001B[0mthread_id\u001B[0m\u001B[0;34m,\u001B[0m \u001B[0mstop_reason\u001B[0m\u001B[0;34m)\u001B[0m\u001B[0;34m:\u001B[0m\u001B[0;34m\u001B[0m\u001B[0;34m\u001B[0m\u001B[0m\n\u001B[0;32m-> 1147\u001B[0;31m             \u001B[0mself\u001B[0m\u001B[0;34m.\u001B[0m\u001B[0m_do_wait_suspend\u001B[0m\u001B[0;34m(\u001B[0m\u001B[0mthread\u001B[0m\u001B[0;34m,\u001B[0m \u001B[0mframe\u001B[0m\u001B[0;34m,\u001B[0m \u001B[0mevent\u001B[0m\u001B[0;34m,\u001B[0m \u001B[0marg\u001B[0m\u001B[0;34m,\u001B[0m \u001B[0msuspend_type\u001B[0m\u001B[0;34m,\u001B[0m \u001B[0mfrom_this_thread\u001B[0m\u001B[0;34m)\u001B[0m\u001B[0;34m\u001B[0m\u001B[0;34m\u001B[0m\u001B[0m\n\u001B[0m\u001B[1;32m   1148\u001B[0m \u001B[0;34m\u001B[0m\u001B[0m\n\u001B[1;32m   1149\u001B[0m     \u001B[0;32mdef\u001B[0m \u001B[0m_do_wait_suspend\u001B[0m\u001B[0;34m(\u001B[0m\u001B[0mself\u001B[0m\u001B[0;34m,\u001B[0m \u001B[0mthread\u001B[0m\u001B[0;34m,\u001B[0m \u001B[0mframe\u001B[0m\u001B[0;34m,\u001B[0m \u001B[0mevent\u001B[0m\u001B[0;34m,\u001B[0m \u001B[0marg\u001B[0m\u001B[0;34m,\u001B[0m \u001B[0msuspend_type\u001B[0m\u001B[0;34m,\u001B[0m \u001B[0mfrom_this_thread\u001B[0m\u001B[0;34m)\u001B[0m\u001B[0;34m:\u001B[0m\u001B[0;34m\u001B[0m\u001B[0;34m\u001B[0m\u001B[0m\n",
      "\u001B[0;32m/Applications/PyCharm.app/Contents/plugins/python/helpers/pydev/pydevd.py\u001B[0m in \u001B[0;36m_do_wait_suspend\u001B[0;34m(self, thread, frame, event, arg, suspend_type, from_this_thread)\u001B[0m\n\u001B[1;32m   1160\u001B[0m \u001B[0;34m\u001B[0m\u001B[0m\n\u001B[1;32m   1161\u001B[0m                 \u001B[0mself\u001B[0m\u001B[0;34m.\u001B[0m\u001B[0mprocess_internal_commands\u001B[0m\u001B[0;34m(\u001B[0m\u001B[0;34m)\u001B[0m\u001B[0;34m\u001B[0m\u001B[0;34m\u001B[0m\u001B[0m\n\u001B[0;32m-> 1162\u001B[0;31m                 \u001B[0mtime\u001B[0m\u001B[0;34m.\u001B[0m\u001B[0msleep\u001B[0m\u001B[0;34m(\u001B[0m\u001B[0;36m0.01\u001B[0m\u001B[0;34m)\u001B[0m\u001B[0;34m\u001B[0m\u001B[0;34m\u001B[0m\u001B[0m\n\u001B[0m\u001B[1;32m   1163\u001B[0m \u001B[0;34m\u001B[0m\u001B[0m\n\u001B[1;32m   1164\u001B[0m         \u001B[0mself\u001B[0m\u001B[0;34m.\u001B[0m\u001B[0mcancel_async_evaluation\u001B[0m\u001B[0;34m(\u001B[0m\u001B[0mget_current_thread_id\u001B[0m\u001B[0;34m(\u001B[0m\u001B[0mthread\u001B[0m\u001B[0;34m)\u001B[0m\u001B[0;34m,\u001B[0m \u001B[0mstr\u001B[0m\u001B[0;34m(\u001B[0m\u001B[0mid\u001B[0m\u001B[0;34m(\u001B[0m\u001B[0mframe\u001B[0m\u001B[0;34m)\u001B[0m\u001B[0;34m)\u001B[0m\u001B[0;34m)\u001B[0m\u001B[0;34m\u001B[0m\u001B[0;34m\u001B[0m\u001B[0m\n",
      "\u001B[0;31mKeyboardInterrupt\u001B[0m: "
     ]
    }
   ],
   "source": [
    "def ptv4t(img):\n",
    "    pp0, pp1, pp2, pp3 = img[0], img[1], img[2], img[3]\n",
    "\n",
    "    if pp0 is None or pp1 is None or pp2 is None or pp3 is None:\n",
    "        return None\n",
    "\n",
    "    result = np.zeros([pp0.shape[0], 4])\n",
    "\n",
    "    dx = [Vector2D for _ in range(3)]\n",
    "    dst = [Gap for _ in range(2)]\n",
    "    pp12 = [TP for _ in range(pp0.shape[0])]\n",
    "    npa = -1  # the number of available particle\n",
    "    ntsp = 0  # the number for tracking the same particle\n",
    "\n",
    "    # 4 times tracking\n",
    "    for ii in range(pp0.shape[0]):  # 1st\n",
    "        flag = True  # init flag for the particle tracking\n",
    "        cf, cfc = 1e10, 1e10  # arbitrary large number\n",
    "\n",
    "        for jj in range(pp1.shape[0]):  # 2nd\n",
    "            dx[0].x = pp1[jj][0] - pp0[ii][0]\n",
    "            dx[0].y = pp1[jj][1] - pp0[ii][1]\n",
    "\n",
    "            if np.sqrt(dx[0].x ** 2 + dx[0].y ** 2) <= s1:\n",
    "                for kk in range(pp2.shape[0]):  # 3rd\n",
    "                    dx[1].x = pp2[kk][0] - pp1[jj][0]\n",
    "                    dx[1].y = pp2[kk][1] - pp1[jj][1]\n",
    "\n",
    "                    dst[0], ip0, op0 = calc_gap(dx[0], dx[1])\n",
    "                    dx[1] = calc_rot(dx[1], dst[0].angle)  # rot of diff vector\n",
    "\n",
    "                    if dst[0].gap <= s2 and np.abs(dst[0].angle) <= eta:\n",
    "                        for ll in range(pp3.shape[0]):  # 4th\n",
    "                            dx[2].x = pp3[ll][0] - pp2[kk][0]\n",
    "                            dx[2].y = pp3[ll][1] - pp2[kk][1]\n",
    "\n",
    "                            dst[1], ip1, op1 = calc_gap(dx[1], dx[2])\n",
    "                            cfc = dst[0].gap ** 2 + dst[1].gap ** 2\n",
    "\n",
    "                            if dst[0].gap <= s2 and np.abs(dst[0].angle) <= eta and cfc < cf:\n",
    "                                cf = cfc\n",
    "                                if flag: npa += 1\n",
    "\n",
    "                                pp12[npa].p1 = ii\n",
    "                                pp12[npa].p2 = jj\n",
    "                                pp12[npa].err = cf\n",
    "                                pp12[npa].flag = True\n",
    "                                flag = False\n",
    "    # post-processing\n",
    "    # If different particles track the same particle,\n",
    "    # giving an error flag to particle which has larger error.\n",
    "    for ii in range(npa):\n",
    "        if pp12[ii].flag:\n",
    "            for jj in range(ii+1, npa):\n",
    "                if pp12[ii].p2 == pp12[jj].p2:\n",
    "                    if pp12[ii].err > pp12[jj].err:\n",
    "                        pp12[ii].flag = False\n",
    "                        ntsp += 1\n",
    "                        break\n",
    "                    else:\n",
    "                        pp12[jj].flag = False\n",
    "                        ntsp += 1\n",
    "\n",
    "    print(f\"The number for tracking the same particle: {ntsp}\")\n",
    "    print(f\"The number of remaining particle by post processing: {npa - ntsp}\\n\")\n",
    "\n",
    "    for ii in range(npa):\n",
    "        if pp12[ii].flag:\n",
    "            result[ii][0] = pp0[pp12[ii].p1][0]\n",
    "            result[ii][1] = pp0[pp12[ii].p1][1]\n",
    "            result[ii][2] = pp1[pp12[ii].p2][0] - pp0[pp12[ii].p1][0]\n",
    "            result[ii][3] = pp1[pp12[ii].p2][1] - pp0[pp12[ii].p1][1]\n",
    "\n",
    "    return result[:npa]\n",
    "\n",
    "\n",
    "for i in range(3000, 3100, 10):\n",
    "    data_list.popleft()\n",
    "    tmp = np.loadtxt(CSV_DIR + f\"{i:06}.csv\", delimiter=',', skiprows=1)\n",
    "    data_list.append(tmp)\n",
    "\n",
    "    r.append(ptv4t(img=data_list))"
   ],
   "metadata": {
    "collapsed": false,
    "pycharm": {
     "name": "#%%\n"
    }
   }
  },
  {
   "cell_type": "code",
   "execution_count": 75,
   "outputs": [
    {
     "data": {
      "text/plain": "array([[0., 0., 0., 0.],\n       [0., 0., 0., 0.],\n       [0., 0., 0., 0.],\n       [0., 0., 0., 0.],\n       [0., 0., 0., 0.],\n       [0., 0., 0., 0.],\n       [0., 0., 0., 0.],\n       [0., 0., 0., 0.],\n       [0., 0., 0., 0.],\n       [0., 0., 0., 0.],\n       [0., 0., 0., 0.],\n       [0., 0., 0., 0.],\n       [0., 0., 0., 0.],\n       [0., 0., 0., 0.],\n       [0., 0., 0., 0.],\n       [0., 0., 0., 0.],\n       [0., 0., 0., 0.],\n       [0., 0., 0., 0.],\n       [0., 0., 0., 0.],\n       [0., 0., 0., 0.],\n       [0., 0., 0., 0.],\n       [0., 0., 0., 0.],\n       [0., 0., 0., 0.],\n       [0., 0., 0., 0.]])"
     },
     "execution_count": 75,
     "metadata": {},
     "output_type": "execute_result"
    }
   ],
   "source": [
    "r[5]"
   ],
   "metadata": {
    "collapsed": false,
    "pycharm": {
     "name": "#%%\n"
    }
   }
  },
  {
   "cell_type": "code",
   "execution_count": 75,
   "outputs": [],
   "source": [],
   "metadata": {
    "collapsed": false,
    "pycharm": {
     "name": "#%%\n"
    }
   }
  }
 ],
 "metadata": {
  "kernelspec": {
   "display_name": "Python 3",
   "language": "python",
   "name": "python3"
  },
  "language_info": {
   "codemirror_mode": {
    "name": "ipython",
    "version": 2
   },
   "file_extension": ".py",
   "mimetype": "text/x-python",
   "name": "python",
   "nbconvert_exporter": "python",
   "pygments_lexer": "ipython2",
   "version": "2.7.6"
  }
 },
 "nbformat": 4,
 "nbformat_minor": 0
}