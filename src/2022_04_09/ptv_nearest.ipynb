{
 "cells": [
  {
   "cell_type": "code",
   "execution_count": 40,
   "metadata": {
    "collapsed": true
   },
   "outputs": [],
   "source": [
    "from collections import deque\n",
    "\n",
    "import numpy as np\n",
    "import matplotlib.pyplot as plt"
   ]
  },
  {
   "cell_type": "code",
   "execution_count": 41,
   "outputs": [],
   "source": [
    "CSV_DIR = \"C001H001S0002/\"\n",
    "data_list = deque([None, None])"
   ],
   "metadata": {
    "collapsed": false,
    "pycharm": {
     "name": "#%%\n"
    }
   }
  },
  {
   "cell_type": "code",
   "execution_count": 42,
   "outputs": [],
   "source": [
    "s = 20  # search window"
   ],
   "metadata": {
    "collapsed": false,
    "pycharm": {
     "name": "#%%\n"
    }
   }
  },
  {
   "cell_type": "code",
   "execution_count": 43,
   "outputs": [],
   "source": [
    "class Vector2D(object):\n",
    "    def __init__(self):\n",
    "        self.x = 0.0\n",
    "        self.y = 0.0\n",
    "\n",
    "class TP(object):\n",
    "    def __init__(self, idx):\n",
    "        self.idx = idx\n",
    "        self.p1 = 0\n",
    "        self.p2 = 0\n",
    "        self.err = 0.0\n",
    "        self.flag = False"
   ],
   "metadata": {
    "collapsed": false,
    "pycharm": {
     "name": "#%%\n"
    }
   }
  },
  {
   "cell_type": "code",
   "execution_count": 44,
   "outputs": [
    {
     "name": "stdout",
     "output_type": "stream",
     "text": [
      "The number for tracking the same particle: 0\n",
      "The number of remaining particle by post processing: 25\n",
      "\n",
      "The number for tracking the same particle: 1\n",
      "The number of remaining particle by post processing: 26\n",
      "\n",
      "The number for tracking the same particle: 0\n",
      "The number of remaining particle by post processing: 26\n",
      "\n",
      "The number for tracking the same particle: 0\n",
      "The number of remaining particle by post processing: 24\n",
      "\n",
      "The number for tracking the same particle: 0\n",
      "The number of remaining particle by post processing: 22\n",
      "\n",
      "The number for tracking the same particle: 0\n",
      "The number of remaining particle by post processing: 21\n",
      "\n",
      "The number for tracking the same particle: 0\n",
      "The number of remaining particle by post processing: 21\n",
      "\n",
      "The number for tracking the same particle: 0\n",
      "The number of remaining particle by post processing: 22\n",
      "\n",
      "The number for tracking the same particle: 1\n",
      "The number of remaining particle by post processing: 22\n",
      "\n",
      "The number for tracking the same particle: 1\n",
      "The number of remaining particle by post processing: 22\n",
      "\n",
      "The number for tracking the same particle: 0\n",
      "The number of remaining particle by post processing: 21\n",
      "\n",
      "The number for tracking the same particle: 0\n",
      "The number of remaining particle by post processing: 21\n",
      "\n",
      "The number for tracking the same particle: 0\n",
      "The number of remaining particle by post processing: 20\n",
      "\n",
      "The number for tracking the same particle: 0\n",
      "The number of remaining particle by post processing: 21\n",
      "\n",
      "The number for tracking the same particle: 0\n",
      "The number of remaining particle by post processing: 23\n",
      "\n",
      "The number for tracking the same particle: 0\n",
      "The number of remaining particle by post processing: 21\n",
      "\n",
      "The number for tracking the same particle: 0\n",
      "The number of remaining particle by post processing: 22\n",
      "\n",
      "The number for tracking the same particle: 0\n",
      "The number of remaining particle by post processing: 21\n",
      "\n",
      "The number for tracking the same particle: 0\n",
      "The number of remaining particle by post processing: 21\n",
      "\n"
     ]
    }
   ],
   "source": [
    "def nearest(imgs):\n",
    "    pp0, pp1 = imgs[0], imgs[1]\n",
    "\n",
    "    if pp0 is None or pp1 is None:\n",
    "        return None\n",
    "\n",
    "    result = np.zeros([pp0.shape[0], 4])\n",
    "\n",
    "    dx = [Vector2D for _ in range(1)]\n",
    "    pp12 = [TP(idx=x) for x in range(pp0.shape[0])]\n",
    "    npa = -1  # the number of available particle\n",
    "    ntsp = 0  # the number for tracking the same particle\n",
    "\n",
    "    for ii in range(pp0.shape[0]):  # 1st\n",
    "        flag = True  # init flag for the particle tracking\n",
    "        c, cc = 1e10, 1e10  # arbitrary large number\n",
    "\n",
    "        for jj in range(pp1.shape[0]):  # 2nd\n",
    "            dx[0].x = pp1[jj][0] - pp0[ii][0]\n",
    "            dx[0].y = pp1[jj][1] - pp0[ii][1]\n",
    "\n",
    "            cc = np.sqrt(dx[0].x ** 2 + dx[0].y ** 2)\n",
    "\n",
    "            if cc <= s and cc < c:\n",
    "                c = cc\n",
    "\n",
    "                if flag:\n",
    "                    npa += 1\n",
    "\n",
    "                pp12[npa].p1 = ii\n",
    "                pp12[npa].p2 = jj\n",
    "                pp12[npa].err = c\n",
    "                pp12[npa].flag = True\n",
    "                flag = False\n",
    "\n",
    "    # post-processing\n",
    "    # If different particles track the same particle,\n",
    "    # giving an error flag to particle which has larger error.\n",
    "    for ii in range(npa):\n",
    "        if pp12[ii].flag:\n",
    "            for jj in range(ii+1, npa):\n",
    "                if pp12[ii].p2 == pp12[jj].p2:\n",
    "                    if pp12[ii].err > pp12[jj].err:\n",
    "                        pp12[ii].flag = False\n",
    "                        ntsp += 1\n",
    "                        break\n",
    "                    else:\n",
    "                        pp12[jj].flag = False\n",
    "                        ntsp += 1\n",
    "\n",
    "    print(f\"The number for tracking the same particle: {ntsp}\")\n",
    "    print(f\"The number of remaining particle by post processing: {npa - ntsp}\\n\")\n",
    "\n",
    "    for ii in range(npa):\n",
    "        if pp12[ii].flag:\n",
    "            result[ii][0] = pp0[pp12[ii].p1][0]\n",
    "            result[ii][1] = pp0[pp12[ii].p1][1]\n",
    "            result[ii][2] = pp1[pp12[ii].p2][0] - pp0[pp12[ii].p1][0]\n",
    "            result[ii][3] = pp1[pp12[ii].p2][1] - pp0[pp12[ii].p1][1]\n",
    "\n",
    "    return result[:npa]\n",
    "\n",
    "\n",
    "for i in range(3000, 3100, 5):\n",
    "    data_list.popleft()\n",
    "    tmp = np.loadtxt(CSV_DIR + f\"{i:06}.csv\", delimiter=',', skiprows=1)\n",
    "    data_list.append(tmp)\n",
    "\n",
    "    r = nearest(imgs=data_list)\n",
    "\n",
    "    if r is not None:\n",
    "        np.savetxt(f\"nearest/n_5_{i}.csv\", r, fmt='%.18f', delimiter=',', header=\"x, y, dx, dy\")"
   ],
   "metadata": {
    "collapsed": false,
    "pycharm": {
     "name": "#%%\n"
    }
   }
  },
  {
   "cell_type": "code",
   "execution_count": 44,
   "outputs": [],
   "source": [],
   "metadata": {
    "collapsed": false,
    "pycharm": {
     "name": "#%%\n"
    }
   }
  }
 ],
 "metadata": {
  "kernelspec": {
   "display_name": "Python 3",
   "language": "python",
   "name": "python3"
  },
  "language_info": {
   "codemirror_mode": {
    "name": "ipython",
    "version": 2
   },
   "file_extension": ".py",
   "mimetype": "text/x-python",
   "name": "python",
   "nbconvert_exporter": "python",
   "pygments_lexer": "ipython2",
   "version": "2.7.6"
  }
 },
 "nbformat": 4,
 "nbformat_minor": 0
}