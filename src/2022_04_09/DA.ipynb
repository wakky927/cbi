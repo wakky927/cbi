{
 "cells": [
  {
   "cell_type": "code",
   "execution_count": 1,
   "metadata": {
    "collapsed": true
   },
   "outputs": [],
   "source": [
    "import cv2"
   ]
  },
  {
   "cell_type": "code",
   "execution_count": 2,
   "outputs": [],
   "source": [
    "DIR = \"tracer_imgs/\""
   ],
   "metadata": {
    "collapsed": false,
    "pycharm": {
     "name": "#%%\n"
    }
   }
  },
  {
   "cell_type": "code",
   "execution_count": 3,
   "outputs": [],
   "source": [
    "for i in range(100):\n",
    "    img = cv2.imread(DIR + f\"tracer_{i}.bmp\")\n",
    "    cv2.imwrite(DIR + f\"tracer_{i+100}.bmp\", cv2.rotate(img, cv2.ROTATE_90_CLOCKWISE))\n",
    "    cv2.imwrite(DIR + f\"tracer_{i+200}.bmp\", cv2.rotate(img, cv2.ROTATE_180))\n",
    "    cv2.imwrite(DIR + f\"tracer_{i+300}.bmp\", cv2.rotate(img, cv2.ROTATE_90_COUNTERCLOCKWISE))\n",
    "    cv2.imwrite(DIR + f\"tracer_{i+400}.bmp\", cv2.flip(img, 0))\n",
    "    cv2.imwrite(DIR + f\"tracer_{i+500}.bmp\", cv2.flip(img, 1))"
   ],
   "metadata": {
    "collapsed": false,
    "pycharm": {
     "name": "#%%\n"
    }
   }
  }
 ],
 "metadata": {
  "kernelspec": {
   "display_name": "Python 3",
   "language": "python",
   "name": "python3"
  },
  "language_info": {
   "codemirror_mode": {
    "name": "ipython",
    "version": 2
   },
   "file_extension": ".py",
   "mimetype": "text/x-python",
   "name": "python",
   "nbconvert_exporter": "python",
   "pygments_lexer": "ipython2",
   "version": "2.7.6"
  }
 },
 "nbformat": 4,
 "nbformat_minor": 0
}