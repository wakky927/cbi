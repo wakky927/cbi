{
 "cells": [
  {
   "cell_type": "code",
   "execution_count": 7,
   "metadata": {
    "collapsed": true,
    "pycharm": {
     "name": "#%%\n"
    }
   },
   "outputs": [],
   "source": [
    "import cv2\n",
    "\n",
    "import numpy as np\n",
    "import matplotlib.pyplot as plt\n",
    "from matplotlib.colors import Normalize\n",
    "from tqdm import tqdm"
   ]
  },
  {
   "cell_type": "code",
   "execution_count": 8,
   "outputs": [],
   "source": [
    "SUPER = \"/media/takuya/ボリューム/M2/result/2022_04_10/\"\n",
    "IMG_DIR = \"/media/takuya/ボリューム1/M2/original/2022_04_10/rbi_q_1/C001H001S0001/\"\n",
    "IN_DIR = SUPER + \"ptv/nearest_skip_5/rbi_q_1/1/\"\n",
    "OUT_DIR = SUPER + \"post/img/rbi_q_1/1/\""
   ],
   "metadata": {
    "collapsed": false,
    "pycharm": {
     "name": "#%%\n"
    }
   }
  },
  {
   "cell_type": "code",
   "execution_count": 9,
   "outputs": [],
   "source": [
    "SUPER = \"E:\\\\M2\\\\result\\\\2022_04_10\\\\\"\n",
    "IMG_DIR = \"F:\\\\M2\\\\original\\\\2022_04_10\\\\rbi_q_1\\\\C001H001S0001\\\\\"\n",
    "IN_DIR = SUPER + \"ptv\\\\nearest_skip_5\\\\rbi_q_1\\\\1\\\\\"\n",
    "OUT_DIR = SUPER + \"post\\\\img\\\\rbi_q_1\\\\1\\\\\""
   ],
   "metadata": {
    "collapsed": false,
    "pycharm": {
     "name": "#%%\n"
    }
   }
  },
  {
   "cell_type": "code",
   "execution_count": 10,
   "outputs": [
    {
     "name": "stderr",
     "output_type": "stream",
     "text": [
      "100%|██████████| 1/1 [00:01<00:00,  1.26s/it]\n"
     ]
    },
    {
     "data": {
      "text/plain": "<Figure size 1152x1152 with 0 Axes>"
     },
     "metadata": {},
     "output_type": "display_data"
    }
   ],
   "source": [
    "for i in tqdm(range(3000, 3001)):\n",
    "    try:\n",
    "        data = np.loadtxt(IN_DIR + f\"{i:06}.csv\", delimiter=',', skiprows=1)\n",
    "\n",
    "        if data.ndim == 1:\n",
    "            if len(data) > 0:\n",
    "                data = data[np.newaxis, :]\n",
    "            else:\n",
    "                continue\n",
    "        elif data.ndim == 2:\n",
    "            pass\n",
    "        else:\n",
    "            continue\n",
    "\n",
    "        # px2mm, frame2sec\n",
    "        data[:, 2:4] *= 21.5 / 79  # 79 px -> 21.5 mm\n",
    "        data[:, 2:4] *= 250  # 250 fps\n",
    "\n",
    "        img = cv2.imread(IMG_DIR + f\"C001H001S0001{i:06}.bmp\")\n",
    "        img_rgb = cv2.cvtColor(img, cv2.COLOR_BGR2RGB)\n",
    "        img_trim = img_rgb[290:910, 90:820]\n",
    "\n",
    "        fig, ax = plt.subplots(figsize=(16, 16))\n",
    "        fig.tight_layout()\n",
    "        plt.xlabel(\"$x$ [mm]\", fontsize=28)\n",
    "        plt.ylabel(\"$y$ [mm]\", fontsize=28)\n",
    "        plt.xticks([0, 50 / 21.5 * 79, 100 / 21.5 * 79, 150 / 21.5 * 79], ['0', '50', '100', '150'], fontsize=24)\n",
    "        plt.yticks([619, 620 - 50 / 21.5 * 79, 620 - 100 / 21.5 * 79, 620 - 150 / 21.5 * 79], ['0', '50', '100', '150'], fontsize=24)\n",
    "        cmap = plt.cm.get_cmap(\"jet\")\n",
    "        image = ax.imshow(img_trim)\n",
    "        for j in range(data.shape[0]):\n",
    "            data[j][2] /= 5  # skip 5 frame -> 50 fps\n",
    "            data[j][3] /= 5  # skip 5 frame -> 50 fps\n",
    "            c = np.sqrt(data[j][2] ** 2 + data[j][3] ** 2)\n",
    "            if c == 0:\n",
    "                pass\n",
    "            else:\n",
    "                data[j][2] /= c\n",
    "                data[j][3] /= c\n",
    "            # p = ax.quiver(data[j][0]+10, data[j][1]+10, data[j][2], data[j][3], color=cmap(c/100, alpha=0.9), angles='xy', scale_units='xy', scale=0.02)\n",
    "            p = ax.quiver(data[j][0]+10, data[j][1]+10, data[j][2], data[j][3], color='r', angles='xy', scale_units='xy', scale=0.02)\n",
    "        # pp = fig.colorbar(plt.cm.ScalarMappable(norm=Normalize(vmin=0, vmax=100), cmap=cmap), ax=ax, shrink=0.67)\n",
    "        # for t in pp.ax.get_yticklabels():\n",
    "        #     t.set_fontsize(24)\n",
    "        # pp.set_label('\\n$\\sqrt{u^{2}+v^{2}}$ [mm/s]', fontsize=28)\n",
    "        # plt.show()\n",
    "        plt.savefig(OUT_DIR + f\"{i}.png\", dpi=100)\n",
    "\n",
    "        plt.cla()\n",
    "        plt.clf()\n",
    "\n",
    "    except OSError as e:\n",
    "        continue"
   ],
   "metadata": {
    "collapsed": false,
    "pycharm": {
     "name": "#%%\n"
    }
   }
  },
  {
   "cell_type": "code",
   "execution_count": 10,
   "outputs": [],
   "source": [],
   "metadata": {
    "collapsed": false,
    "pycharm": {
     "name": "#%%\n"
    }
   }
  }
 ],
 "metadata": {
  "kernelspec": {
   "display_name": "Python 3",
   "language": "python",
   "name": "python3"
  },
  "language_info": {
   "codemirror_mode": {
    "name": "ipython",
    "version": 2
   },
   "file_extension": ".py",
   "mimetype": "text/x-python",
   "name": "python",
   "nbconvert_exporter": "python",
   "pygments_lexer": "ipython2",
   "version": "2.7.6"
  }
 },
 "nbformat": 4,
 "nbformat_minor": 0
}