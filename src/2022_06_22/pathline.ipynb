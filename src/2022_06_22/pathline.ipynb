{
 "cells": [
  {
   "cell_type": "code",
   "execution_count": 38,
   "outputs": [],
   "source": [
    "import cv2\n",
    "from tqdm import tqdm"
   ],
   "metadata": {
    "collapsed": false,
    "pycharm": {
     "name": "#%%\n"
    }
   }
  },
  {
   "cell_type": "markdown",
   "source": [
    "## at r = 100 mm"
   ],
   "metadata": {
    "collapsed": false,
    "pycharm": {
     "name": "#%% md\n"
    }
   }
  },
  {
   "cell_type": "markdown",
   "source": [
    "### CBI"
   ],
   "metadata": {
    "collapsed": false,
    "pycharm": {
     "name": "#%% md\n"
    }
   }
  },
  {
   "cell_type": "code",
   "execution_count": 48,
   "outputs": [],
   "source": [
    "DIR_IN = \"E:\\\\M2\\\\original\\\\2022_06_22\\\\at_r_100_mm\\\\cbi\\\\cbi_q_1\\\\C001H001S0003\\\\\"\n",
    "DIR_OUT = \"E:\\\\M2\\\\result\\\\2022_06_22\\\\pathline\\\\at_r_100_mm\\\\cbi\\\\cbi_q_1\\\\\""
   ],
   "metadata": {
    "collapsed": false,
    "pycharm": {
     "name": "#%%\n"
    }
   }
  },
  {
   "cell_type": "code",
   "execution_count": 49,
   "outputs": [
    {
     "name": "stderr",
     "output_type": "stream",
     "text": [
      "100%|██████████| 4999/4999 [08:18<00:00, 10.02it/s]\n"
     ]
    }
   ],
   "source": [
    "for i in tqdm(range(1, 5000)):\n",
    "    dst = []\n",
    "\n",
    "    for j in range(20):\n",
    "        img = cv2.imread(DIR_IN + f\"C001H001S0003{(i+j):06}.bmp\")\n",
    "\n",
    "        if j == 0:\n",
    "            dst = img\n",
    "        else:\n",
    "            alpha = 1\n",
    "            beta = 1\n",
    "            dst = cv2.addWeighted(img, alpha, dst, beta, 0)\n",
    "\n",
    "    cv2.imwrite(DIR_OUT + f\"{(i+j):06}.bmp\", dst)"
   ],
   "metadata": {
    "collapsed": false,
    "pycharm": {
     "name": "#%%\n"
    }
   }
  },
  {
   "cell_type": "code",
   "execution_count": 41,
   "outputs": [],
   "source": [
    "DIR_IN = \"E:\\\\M2\\\\original\\\\2022_06_22\\\\at_r_100_mm\\\\cbi\\\\cbi_q_2\\\\C001H001S0001\\\\\"\n",
    "DIR_OUT = \"E:\\\\M2\\\\result\\\\2022_06_22\\\\pathline\\\\at_r_100_mm\\\\cbi\\\\cbi_q_2\\\\\""
   ],
   "metadata": {
    "collapsed": false,
    "pycharm": {
     "name": "#%%\n"
    }
   }
  },
  {
   "cell_type": "code",
   "execution_count": 43,
   "outputs": [
    {
     "name": "stderr",
     "output_type": "stream",
     "text": [
      "100%|██████████| 999/999 [01:44<00:00,  9.58it/s]\n"
     ]
    }
   ],
   "source": [
    "for i in tqdm(range(1, 1000)):\n",
    "    dst = []\n",
    "\n",
    "    for j in range(20):\n",
    "        img = cv2.imread(DIR_IN + f\"C001H001S0001{(i+j):06}.bmp\")\n",
    "\n",
    "        if j == 0:\n",
    "            dst = img\n",
    "        else:\n",
    "            alpha = 1\n",
    "            beta = 1\n",
    "            dst = cv2.addWeighted(img, alpha, dst, beta, 0)\n",
    "\n",
    "    cv2.imwrite(DIR_OUT + f\"{(i+j):06}.bmp\", dst)"
   ],
   "metadata": {
    "collapsed": false,
    "pycharm": {
     "name": "#%%\n"
    }
   }
  },
  {
   "cell_type": "markdown",
   "source": [
    "## at r = 200 mm"
   ],
   "metadata": {
    "collapsed": false,
    "pycharm": {
     "name": "#%% md\n"
    }
   }
  },
  {
   "cell_type": "markdown",
   "source": [
    "### CBI"
   ],
   "metadata": {
    "collapsed": false,
    "pycharm": {
     "name": "#%% md\n"
    }
   }
  },
  {
   "cell_type": "code",
   "execution_count": 50,
   "outputs": [],
   "source": [
    "DIR_IN = \"E:\\\\M2\\\\original\\\\2022_06_22\\\\at_r_200_mm\\\\cbi\\\\cbi_q_1\\\\C001H001S0003\\\\\"\n",
    "DIR_OUT = \"E:\\\\M2\\\\result\\\\2022_06_22\\\\pathline\\\\at_r_200_mm\\\\cbi\\\\cbi_q_1\\\\\""
   ],
   "metadata": {
    "collapsed": false,
    "pycharm": {
     "name": "#%%\n"
    }
   }
  },
  {
   "cell_type": "code",
   "execution_count": 52,
   "outputs": [
    {
     "name": "stderr",
     "output_type": "stream",
     "text": [
      "100%|██████████| 4999/4999 [07:07<00:00, 11.69it/s]\n"
     ]
    }
   ],
   "source": [
    "for i in tqdm(range(1, 5000)):\n",
    "    dst = []\n",
    "\n",
    "    for j in range(20):\n",
    "        img = cv2.imread(DIR_IN + f\"C001H001S0003{(i+j):06}.bmp\")\n",
    "\n",
    "        if j == 0:\n",
    "            dst = img\n",
    "        else:\n",
    "            alpha = 1\n",
    "            beta = 1\n",
    "            dst = cv2.addWeighted(img, alpha, dst, beta, 0)\n",
    "\n",
    "    cv2.imwrite(DIR_OUT + f\"{(i+j):06}.bmp\", dst)"
   ],
   "metadata": {
    "collapsed": false,
    "pycharm": {
     "name": "#%%\n"
    }
   }
  },
  {
   "cell_type": "code",
   "execution_count": 85,
   "outputs": [],
   "source": [
    "def tail(filename, n=10):\n",
    "    with open(filename, \"r\") as f:\n",
    "        lines = f.readlines()\n",
    "    for line in lines[-n:]:\n",
    "        print(line)"
   ],
   "metadata": {
    "collapsed": false,
    "pycharm": {
     "name": "#%%\n"
    }
   }
  },
  {
   "cell_type": "code",
   "execution_count": 86,
   "outputs": [
    {
     "name": "stdout",
     "output_type": "stream",
     "text": [
      "w\n",
      "\n",
      "sa\n",
      "\n",
      "af\n",
      "\n",
      "fff\n",
      "\n",
      "ffgg\n",
      "\n",
      "a\n",
      "\n",
      "df\n",
      "\n",
      "gearger\n",
      "\n",
      "reyrhd\n",
      "\n",
      "hhfcg\n"
     ]
    }
   ],
   "source": [
    "tail(filename=\"a.txt\")"
   ],
   "metadata": {
    "collapsed": false,
    "pycharm": {
     "name": "#%%\n"
    }
   }
  },
  {
   "cell_type": "code",
   "execution_count": null,
   "outputs": [],
   "source": [],
   "metadata": {
    "collapsed": false,
    "pycharm": {
     "name": "#%%\n"
    }
   }
  }
 ],
 "metadata": {
  "kernelspec": {
   "display_name": "Python 3",
   "language": "python",
   "name": "python3"
  },
  "language_info": {
   "codemirror_mode": {
    "name": "ipython",
    "version": 2
   },
   "file_extension": ".py",
   "mimetype": "text/x-python",
   "name": "python",
   "nbconvert_exporter": "python",
   "pygments_lexer": "ipython2",
   "version": "2.7.6"
  }
 },
 "nbformat": 4,
 "nbformat_minor": 0
}