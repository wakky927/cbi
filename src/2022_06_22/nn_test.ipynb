{
 "cells": [
  {
   "cell_type": "code",
   "execution_count": null,
   "metadata": {
    "collapsed": true,
    "pycharm": {
     "name": "#%%\n"
    }
   },
   "outputs": [],
   "source": [
    "from collections import deque\n",
    "\n",
    "import numpy as np\n",
    "from tqdm import tqdm\n",
    "\n",
    "\n",
    "class Vector2D(object):\n",
    "    def __init__(self):\n",
    "        self.x = 0.0\n",
    "        self.y = 0.0\n",
    "\n",
    "\n",
    "class TP(object):\n",
    "    def __init__(self, idx):\n",
    "        self.idx = idx\n",
    "        self.p0 = 0\n",
    "        self.p1 = 0\n",
    "        self.err = 0.0\n",
    "        self.flag = False\n",
    "\n",
    "\n",
    "def nearest(imgs):\n",
    "    pp0, pp1 = imgs[0], imgs[1]\n",
    "\n",
    "    if pp0 is None or pp1 is None:\n",
    "        return None\n",
    "\n",
    "    result = np.zeros([pp0.shape[0], 4])\n",
    "\n",
    "    dx = Vector2D\n",
    "    pp01 = [TP(idx=x) for x in range(pp0.shape[0])]\n",
    "    s = 20  # search window\n",
    "    npa = -1  # the number of available particle\n",
    "    ntsp = 0  # the number for tracking the same particle\n",
    "\n",
    "    for ii in range(pp0.shape[0]):  # 1st\n",
    "        flag = True  # init flag for the particle tracking\n",
    "        c, cc = 1e10, 1e10  # arbitrary large number\n",
    "\n",
    "        for jj in range(pp1.shape[0]):  # 2nd\n",
    "            dx.x = pp1[jj][0] - pp0[ii][0]\n",
    "            dx.y = pp1[jj][1] - pp0[ii][1]\n",
    "\n",
    "            cc = np.sqrt(dx.x ** 2 + dx.y ** 2)\n",
    "\n",
    "            if cc <= s and cc < c:\n",
    "                c = cc\n",
    "\n",
    "                if flag:\n",
    "                    npa += 1\n",
    "\n",
    "                pp01[npa].p0 = ii\n",
    "                pp01[npa].p1 = jj\n",
    "                pp01[npa].err = c\n",
    "                pp01[npa].flag = True\n",
    "                flag = False\n",
    "\n",
    "    # post-processing\n",
    "    # If different particles track the same particle,\n",
    "    # giving an error flag to particle which has larger error.\n",
    "    for ii in range(npa):\n",
    "        if pp01[ii].flag:\n",
    "            for jj in range(ii + 1, npa):\n",
    "                if pp01[ii].p1 == pp01[jj].p1:\n",
    "                    if pp01[ii].err > pp01[jj].err:\n",
    "                        pp01[ii].flag = False\n",
    "                        ntsp += 1\n",
    "                        break\n",
    "                    else:\n",
    "                        pp01[jj].flag = False\n",
    "                        ntsp += 1\n",
    "\n",
    "    for ii in range(npa+1):\n",
    "        if pp01[ii].flag:\n",
    "            result[ii][0] = pp0[pp01[ii].p0][0]\n",
    "            result[ii][1] = pp0[pp01[ii].p0][1]\n",
    "            result[ii][2] = pp1[pp01[ii].p1][0] - pp0[pp01[ii].p0][0]\n",
    "            result[ii][3] = pp1[pp01[ii].p1][1] - pp0[pp01[ii].p0][1]\n",
    "\n",
    "    if npa == 0:\n",
    "        return result\n",
    "\n",
    "    return result[:npa]"
   ]
  },
  {
   "cell_type": "code",
   "execution_count": null,
   "outputs": [],
   "source": [
    "SUPER = \"E:\\\\M2\\\\result\\\\2022_06_22\\\\pre\\\\pp\\\\at_x_100_mm\\\\cbi\\\\cbi_q_1\\\\C001H001S0001\\\\\""
   ],
   "metadata": {
    "collapsed": false,
    "pycharm": {
     "name": "#%%\n"
    }
   }
  },
  {
   "cell_type": "code",
   "execution_count": null,
   "outputs": [],
   "source": [],
   "metadata": {
    "collapsed": false,
    "pycharm": {
     "name": "#%%\n"
    }
   }
  }
 ],
 "metadata": {
  "kernelspec": {
   "display_name": "Python 3",
   "language": "python",
   "name": "python3"
  },
  "language_info": {
   "codemirror_mode": {
    "name": "ipython",
    "version": 2
   },
   "file_extension": ".py",
   "mimetype": "text/x-python",
   "name": "python",
   "nbconvert_exporter": "python",
   "pygments_lexer": "ipython2",
   "version": "2.7.6"
  }
 },
 "nbformat": 4,
 "nbformat_minor": 0
}