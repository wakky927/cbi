{
 "cells": [
  {
   "cell_type": "code",
   "execution_count": 6,
   "metadata": {
    "collapsed": true
   },
   "outputs": [],
   "source": [
    "from matplotlib import pyplot as plt\n",
    "import numpy as np\n",
    "import pandas as pd\n",
    "from tqdm import tqdm"
   ]
  },
  {
   "cell_type": "code",
   "execution_count": 7,
   "outputs": [],
   "source": [
    "SUPER = \"/media/takuya/exHDD/M1/result/2022_02_07/piv/gx_32_gy_32_t_32_s_64_th_70/\"\n",
    "DIR = [SUPER + f\"_{i}/\" for i in range(3, 64)]"
   ],
   "metadata": {
    "collapsed": false,
    "pycharm": {
     "name": "#%%\n"
    }
   }
  },
  {
   "cell_type": "code",
   "execution_count": 8,
   "outputs": [],
   "source": [
    "def sum_vel(sum_v, flag_v, tmp_v):\n",
    "    flag_v += np.where(np.isnan(tmp_v), 0, 1)\n",
    "    sum_v = np.nansum(np.stack([sum_v, tmp_v]), axis=0)\n",
    "\n",
    "    return sum_v, flag_v"
   ],
   "metadata": {
    "collapsed": false,
    "pycharm": {
     "name": "#%%\n"
    }
   }
  },
  {
   "cell_type": "code",
   "execution_count": 9,
   "outputs": [],
   "source": [
    "cnt = 0"
   ],
   "metadata": {
    "collapsed": false,
    "pycharm": {
     "name": "#%%\n"
    }
   }
  },
  {
   "cell_type": "markdown",
   "source": [
    "- 6.0 to 5.0 L/min"
   ],
   "metadata": {
    "collapsed": false
   }
  },
  {
   "cell_type": "code",
   "execution_count": 10,
   "outputs": [
    {
     "name": "stderr",
     "output_type": "stream",
     "text": [
      "100%|██████████| 5/5 [05:11<00:00, 62.35s/it]\n",
      "100%|██████████| 5/5 [05:21<00:00, 64.23s/it]\n",
      "100%|██████████| 5/5 [04:59<00:00, 59.93s/it]\n"
     ]
    }
   ],
   "source": [
    "for q in range(3):\n",
    "    sum_dx = np.zeros((32, 32))\n",
    "    sum_dy = np.zeros((32, 32))\n",
    "    flag_dx = np.zeros((32, 32))\n",
    "    flag_dy = np.zeros((32, 32))\n",
    "\n",
    "    for t in tqdm(range(5)):\n",
    "        for i in range(0, 3200):\n",
    "            tmp_dx = np.loadtxt(DIR[cnt] + f\"dx_{i}_{i+1}.csv\", delimiter=',')\n",
    "            tmp_dy = np.loadtxt(DIR[cnt] + f\"dy_{i}_{i+1}.csv\", delimiter=',')\n",
    "\n",
    "            sum_dx, flag_dx = sum_vel(sum_dx, flag_dx, tmp_dx)\n",
    "            sum_dy, flag_dy = sum_vel(sum_dy, flag_dy, tmp_dy)\n",
    "\n",
    "        cnt += 1\n",
    "\n",
    "    # average dX during 1T\n",
    "    ave_dx = sum_dx / flag_dx\n",
    "    ave_dy = sum_dy / flag_dy\n",
    "\n",
    "    # save as csv\n",
    "    np.savetxt(f\"/media/takuya/exHDD/M1/result/2022_02_07/post/gx_32_gy_32_t_32_s_64_th_70/ave/ave_{60-5*q}_dx.csv\", ave_dx, delimiter=',')\n",
    "    np.savetxt(f\"/media/takuya/exHDD/M1/result/2022_02_07/post/gx_32_gy_32_t_32_s_64_th_70/ave/ave_{60-5*q}_dy.csv\", ave_dy, delimiter=',')"
   ],
   "metadata": {
    "collapsed": false,
    "pycharm": {
     "name": "#%%\n"
    }
   }
  },
  {
   "cell_type": "markdown",
   "source": [
    "- 4.5 L/min without #2"
   ],
   "metadata": {
    "collapsed": false
   }
  },
  {
   "cell_type": "code",
   "execution_count": 11,
   "outputs": [
    {
     "name": "stderr",
     "output_type": "stream",
     "text": [
      "100%|██████████| 6/6 [05:09<00:00, 51.57s/it]\n"
     ]
    }
   ],
   "source": [
    "sum_dx = np.zeros((32, 32))\n",
    "sum_dy = np.zeros((32, 32))\n",
    "flag_dx = np.zeros((32, 32))\n",
    "flag_dy = np.zeros((32, 32))\n",
    "\n",
    "for t in tqdm(range(6)):\n",
    "    if t == 1:\n",
    "        cnt += 1\n",
    "        continue\n",
    "\n",
    "    for i in range(0, 3200):\n",
    "        tmp_dx = np.loadtxt(DIR[cnt] + f\"dx_{i}_{i+1}.csv\", delimiter=',')\n",
    "        tmp_dy = np.loadtxt(DIR[cnt] + f\"dy_{i}_{i+1}.csv\", delimiter=',')\n",
    "\n",
    "        sum_dx, flag_dx = sum_vel(sum_dx, flag_dx, tmp_dx)\n",
    "        sum_dy, flag_dy = sum_vel(sum_dy, flag_dy, tmp_dy)\n",
    "\n",
    "    cnt += 1\n",
    "\n",
    "# average dX during 1T\n",
    "ave_dx = sum_dx / flag_dx\n",
    "ave_dy = sum_dy / flag_dy\n",
    "\n",
    "# save as csv\n",
    "np.savetxt(f\"/media/takuya/exHDD/M1/result/2022_02_07/post/gx_32_gy_32_t_32_s_64_th_70/ave/ave_45_dx.csv\", ave_dx, delimiter=',')\n",
    "np.savetxt(f\"/media/takuya/exHDD/M1/result/2022_02_07/post/gx_32_gy_32_t_32_s_64_th_70/ave/ave_45_dy.csv\", ave_dy, delimiter=',')"
   ],
   "metadata": {
    "collapsed": false,
    "pycharm": {
     "name": "#%%\n"
    }
   }
  },
  {
   "cell_type": "markdown",
   "source": [
    "- 4.0 to 1.5 L/min"
   ],
   "metadata": {
    "collapsed": false
   }
  },
  {
   "cell_type": "code",
   "execution_count": 12,
   "outputs": [
    {
     "name": "stderr",
     "output_type": "stream",
     "text": [
      "100%|██████████| 5/5 [05:20<00:00, 64.07s/it]\n",
      "100%|██████████| 5/5 [04:59<00:00, 59.96s/it]\n",
      "100%|██████████| 5/5 [04:49<00:00, 57.99s/it]\n",
      "100%|██████████| 5/5 [04:50<00:00, 58.15s/it]\n",
      "100%|██████████| 5/5 [04:40<00:00, 56.12s/it]\n",
      "100%|██████████| 5/5 [04:26<00:00, 53.23s/it]\n"
     ]
    }
   ],
   "source": [
    "for q in range(6):\n",
    "    sum_dx = np.zeros((32, 32))\n",
    "    sum_dy = np.zeros((32, 32))\n",
    "    flag_dx = np.zeros((32, 32))\n",
    "    flag_dy = np.zeros((32, 32))\n",
    "\n",
    "    for t in tqdm(range(5)):\n",
    "        for i in range(0, 3200):\n",
    "            tmp_dx = np.loadtxt(DIR[cnt] + f\"dx_{i}_{i+1}.csv\", delimiter=',')\n",
    "            tmp_dy = np.loadtxt(DIR[cnt] + f\"dy_{i}_{i+1}.csv\", delimiter=',')\n",
    "\n",
    "            sum_dx, flag_dx = sum_vel(sum_dx, flag_dx, tmp_dx)\n",
    "            sum_dy, flag_dy = sum_vel(sum_dy, flag_dy, tmp_dy)\n",
    "\n",
    "        cnt += 1\n",
    "\n",
    "    # average dX during 1T\n",
    "    ave_dx = sum_dx / flag_dx\n",
    "    ave_dy = sum_dy / flag_dy\n",
    "\n",
    "    # save as csv\n",
    "    np.savetxt(f\"/media/takuya/exHDD/M1/result/2022_02_07/post/gx_32_gy_32_t_32_s_64_th_70/ave/ave_{40-5*q}_dx.csv\", ave_dx, delimiter=',')\n",
    "    np.savetxt(f\"/media/takuya/exHDD/M1/result/2022_02_07/post/gx_32_gy_32_t_32_s_64_th_70/ave/ave_{40-5*q}_dy.csv\", ave_dy, delimiter=',')"
   ],
   "metadata": {
    "collapsed": false,
    "pycharm": {
     "name": "#%%\n"
    }
   }
  },
  {
   "cell_type": "markdown",
   "source": [
    "- 1.0 L/min"
   ],
   "metadata": {
    "collapsed": false
   }
  },
  {
   "cell_type": "code",
   "execution_count": 13,
   "outputs": [
    {
     "name": "stderr",
     "output_type": "stream",
     "text": [
      "100%|██████████| 10/10 [08:21<00:00, 50.15s/it]\n"
     ]
    }
   ],
   "source": [
    "sum_dx = np.zeros((32, 32))\n",
    "sum_dy = np.zeros((32, 32))\n",
    "flag_dx = np.zeros((32, 32))\n",
    "flag_dy = np.zeros((32, 32))\n",
    "\n",
    "for t in tqdm(range(10)):\n",
    "    for i in range(0, 3200):\n",
    "        tmp_dx = np.loadtxt(DIR[cnt] + f\"dx_{i}_{i+1}.csv\", delimiter=',')\n",
    "        tmp_dy = np.loadtxt(DIR[cnt] + f\"dy_{i}_{i+1}.csv\", delimiter=',')\n",
    "\n",
    "        sum_dx, flag_dx = sum_vel(sum_dx, flag_dx, tmp_dx)\n",
    "        sum_dy, flag_dy = sum_vel(sum_dy, flag_dy, tmp_dy)\n",
    "\n",
    "    cnt += 1\n",
    "\n",
    "# average dX during 1T\n",
    "ave_dx = sum_dx / flag_dx\n",
    "ave_dy = sum_dy / flag_dy\n",
    "\n",
    "# save as csv\n",
    "np.savetxt(f\"/media/takuya/exHDD/M1/result/2022_02_07/post/gx_32_gy_32_t_32_s_64_th_70/ave/ave_10_dx.csv\", ave_dx, delimiter=',')\n",
    "np.savetxt(f\"/media/takuya/exHDD/M1/result/2022_02_07/post/gx_32_gy_32_t_32_s_64_th_70/ave/ave_10_dy.csv\", ave_dy, delimiter=',')"
   ],
   "metadata": {
    "collapsed": false,
    "pycharm": {
     "name": "#%%\n"
    }
   }
  },
  {
   "cell_type": "code",
   "execution_count": 13,
   "outputs": [],
   "source": [],
   "metadata": {
    "collapsed": false,
    "pycharm": {
     "name": "#%%\n"
    }
   }
  }
 ],
 "metadata": {
  "kernelspec": {
   "display_name": "Python 3",
   "language": "python",
   "name": "python3"
  },
  "language_info": {
   "codemirror_mode": {
    "name": "ipython",
    "version": 2
   },
   "file_extension": ".py",
   "mimetype": "text/x-python",
   "name": "python",
   "nbconvert_exporter": "python",
   "pygments_lexer": "ipython2",
   "version": "2.7.6"
  }
 },
 "nbformat": 4,
 "nbformat_minor": 0
}