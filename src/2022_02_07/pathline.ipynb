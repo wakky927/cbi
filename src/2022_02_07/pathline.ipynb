{
 "cells": [
  {
   "cell_type": "code",
   "execution_count": null,
   "outputs": [],
   "source": [
    "import cv2\n",
    "import numpy as np\n",
    "from tqdm import tqdm"
   ],
   "metadata": {
    "collapsed": false,
    "pycharm": {
     "name": "#%%\n"
    }
   }
  },
  {
   "cell_type": "code",
   "execution_count": null,
   "outputs": [],
   "source": [
    "DIR_IN = \"F:\\\\M1\\\\original\\\\2022_02_07\\\\\"\n",
    "DIR_OUT = \"E:\\\\M1\\\\result\\\\2022_02_07\\\\pathline\\\\\""
   ],
   "metadata": {
    "collapsed": false,
    "pycharm": {
     "name": "#%%\n"
    }
   }
  },
  {
   "cell_type": "code",
   "execution_count": null,
   "outputs": [],
   "source": [
    "for n in tqdm(range(3, 64)):\n",
    "    DIR_IN += f\"_{n}\\\\\"\n",
    "    DIR_OUT += f\"_{n}\\\\\"\n",
    "    for i in tqdm(range(1)):\n",
    "        dst = []\n",
    "\n",
    "        for j in range(5):\n",
    "            img = cv2.imread(DIR_IN + f\"_{(i+j):08}.bmp\")\n",
    "\n",
    "            if j == 0:\n",
    "                dst = img\n",
    "            else:\n",
    "                alpha = 1 / (j + 1)\n",
    "                beta = 1 - alpha\n",
    "                dst = cv2.addWeighted(img, alpha, dst, beta, 0)\n",
    "\n",
    "        cv2.imwrite(DIR_OUT + f\"_{i:08}.bmp\", dst)"
   ],
   "metadata": {
    "collapsed": false,
    "pycharm": {
     "name": "#%%\n"
    }
   }
  }
 ],
 "metadata": {
  "kernelspec": {
   "display_name": "Python 3",
   "language": "python",
   "name": "python3"
  },
  "language_info": {
   "codemirror_mode": {
    "name": "ipython",
    "version": 2
   },
   "file_extension": ".py",
   "mimetype": "text/x-python",
   "name": "python",
   "nbconvert_exporter": "python",
   "pygments_lexer": "ipython2",
   "version": "2.7.6"
  }
 },
 "nbformat": 4,
 "nbformat_minor": 0
}