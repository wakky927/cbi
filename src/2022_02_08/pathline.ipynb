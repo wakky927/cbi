{
 "cells": [
  {
   "cell_type": "code",
   "execution_count": 1,
   "metadata": {
    "collapsed": true,
    "pycharm": {
     "name": "#%%\n"
    }
   },
   "outputs": [],
   "source": [
    "import cv2\n",
    "from matplotlib import pyplot as plt\n",
    "import numpy as np\n",
    "from tqdm import tqdm"
   ]
  },
  {
   "cell_type": "code",
   "execution_count": 2,
   "outputs": [],
   "source": [
    "DIR_IN = \"F:\\\\M1\\\\original\\\\2022_02_08\\\\\"\n",
    "DIR_OUT = \"E:\\\\M1\\\\result\\\\2022_02_08\\\\pathline\\\\\""
   ],
   "metadata": {
    "collapsed": false,
    "pycharm": {
     "name": "#%%\n"
    }
   }
  },
  {
   "cell_type": "code",
   "execution_count": 3,
   "outputs": [],
   "source": [
    "def adjust(im, a=1.0, b=0.0):\n",
    "    res = a * im + b\n",
    "    return np.clip(res, 0, 255).astype(np.uint8)"
   ],
   "metadata": {
    "collapsed": false,
    "pycharm": {
     "name": "#%%\n"
    }
   }
  },
  {
   "cell_type": "code",
   "execution_count": 4,
   "outputs": [],
   "source": [
    "def gamma(im, g=1.0):\n",
    "    table = (np.arange(0, 256) / 255) ** g * 255\n",
    "    table = np.clip(table, 0, 255).astype(np.uint8)\n",
    "    return cv2.LUT(im, table)"
   ],
   "metadata": {
    "collapsed": false,
    "pycharm": {
     "name": "#%%\n"
    }
   }
  },
  {
   "cell_type": "code",
   "execution_count": 5,
   "outputs": [
    {
     "name": "stderr",
     "output_type": "stream",
     "text": [
      "100%|██████████| 46/46 [3:28:06<00:00, 271.45s/it]  \n"
     ]
    }
   ],
   "source": [
    "for n in tqdm(range(1, 47)):\n",
    "    if n == 21:\n",
    "        continue\n",
    "    for i in range(1000):\n",
    "        dst = []\n",
    "\n",
    "        for j in range(20):\n",
    "            img = cv2.imread(DIR_IN + f\"_{n}\\\\_{(i+j):08}.bmp\")\n",
    "\n",
    "            if j == 0:\n",
    "                dst = img\n",
    "            else:\n",
    "                alpha = 1 / (j + 1)\n",
    "                beta = 1 - alpha\n",
    "                dst = cv2.addWeighted(img, alpha, dst, beta, 0)\n",
    "\n",
    "        cv2.imwrite(DIR_OUT + f\"_{n}\\\\_{i:08}.bmp\", dst)\n",
    "\n",
    "    # plt.figure(figsize=(16, 16))\n",
    "    # plt.imshow(dst)\n",
    "    # plt.show()"
   ],
   "metadata": {
    "collapsed": false,
    "pycharm": {
     "name": "#%%\n"
    }
   }
  },
  {
   "cell_type": "code",
   "execution_count": 5,
   "outputs": [],
   "source": [],
   "metadata": {
    "collapsed": false,
    "pycharm": {
     "name": "#%%\n"
    }
   }
  }
 ],
 "metadata": {
  "kernelspec": {
   "display_name": "Python 3",
   "language": "python",
   "name": "python3"
  },
  "language_info": {
   "codemirror_mode": {
    "name": "ipython",
    "version": 2
   },
   "file_extension": ".py",
   "mimetype": "text/x-python",
   "name": "python",
   "nbconvert_exporter": "python",
   "pygments_lexer": "ipython2",
   "version": "2.7.6"
  }
 },
 "nbformat": 4,
 "nbformat_minor": 0
}