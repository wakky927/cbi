{
 "cells": [
  {
   "cell_type": "code",
   "execution_count": 27,
   "metadata": {
    "collapsed": true
   },
   "outputs": [],
   "source": [
    "from matplotlib import pyplot as plt\n",
    "import numpy as np\n",
    "import pandas as pd\n",
    "from tqdm import tqdm"
   ]
  },
  {
   "cell_type": "code",
   "execution_count": 28,
   "outputs": [],
   "source": [
    "SUPER = \"/media/lfc/ボリューム/M1/result/2022_02_08/piv/gx_32_gy_32_t_32_s_64_th_70/\"\n",
    "DIR = [SUPER + f\"_{i}/\" for i in range(1, 47)]"
   ],
   "metadata": {
    "collapsed": false,
    "pycharm": {
     "name": "#%%\n"
    }
   }
  },
  {
   "cell_type": "code",
   "execution_count": 29,
   "outputs": [],
   "source": [
    "inj_int_sheet = pd.read_csv(\"inj_int.csv\", index_col=0)"
   ],
   "metadata": {
    "collapsed": false,
    "pycharm": {
     "name": "#%%\n"
    }
   }
  },
  {
   "cell_type": "code",
   "execution_count": 30,
   "outputs": [
    {
     "data": {
      "text/plain": "    Inj_0  Int_0  Inj_1  Int_1  Inj_2   Int_2   Inj_3   Int_3   Inj_4   Int_4  \\\n1   252.0  402.0  552.0  702.0  852.0  1002.0  1152.0  1302.0  1452.0  1602.0   \n2   151.0  301.0  451.0  601.0  751.0   901.0  1051.0  1201.0  1351.0  1501.0   \n3    42.0  192.0  342.0  492.0  642.0   792.0   942.0  1092.0  1242.0  1392.0   \n4    66.0  216.0  366.0  516.0  666.0   816.0   966.0  1116.0  1266.0  1416.0   \n5    70.0  220.0  370.0  520.0  670.0   820.0   970.0  1120.0  1270.0  1420.0   \n6    73.0  223.0  373.0  523.0  673.0   823.0   973.0  1123.0  1273.0  1423.0   \n7    18.0  168.0  318.0  468.0  618.0   768.0   918.0  1068.0  1218.0  1368.0   \n8   229.0  379.0  529.0  679.0  829.0   979.0  1129.0  1279.0  1429.0  1579.0   \n9    57.0  207.0  357.0  507.0  657.0   807.0   957.0  1107.0  1257.0  1407.0   \n10   72.0  222.0  372.0  522.0  672.0   822.0   972.0  1122.0  1272.0  1422.0   \n\n     Inj_5   Int_5   Inj_6   Int_6   Inj_7   Int_7   Inj_8   Int_8   Inj_9  \\\n1   1752.0  1902.0  2052.0  2202.0  2352.0  2502.0  2652.0  2802.0  2952.0   \n2   1651.0  1801.0  1951.0  2101.0  2251.0  2401.0  2551.0  2701.0  2851.0   \n3   1542.0  1692.0  1842.0  1992.0  2142.0  2292.0  2442.0  2592.0  2742.0   \n4   1566.0  1716.0  1866.0  2016.0  2166.0  2316.0  2466.0  2616.0  2766.0   \n5   1570.0  1720.0  1870.0  2020.0  2170.0  2320.0  2470.0  2620.0  2770.0   \n6   1573.0  1723.0  1873.0  2023.0  2173.0  2323.0  2473.0  2623.0  2773.0   \n7   1518.0  1668.0  1818.0  1968.0  2118.0  2268.0  2418.0  2568.0  2718.0   \n8   1729.0  1879.0  2029.0  2179.0  2329.0  2479.0  2629.0  2779.0  2929.0   \n9   1557.0  1707.0  1857.0  2007.0  2157.0  2307.0  2457.0  2607.0  2757.0   \n10  1572.0  1722.0  1872.0  2022.0  2172.0  2322.0  2472.0  2622.0  2772.0   \n\n     Int_9  \n1   3102.0  \n2   3001.0  \n3   2892.0  \n4   2916.0  \n5   2920.0  \n6   2923.0  \n7   2868.0  \n8   3079.0  \n9   2907.0  \n10  2922.0  ",
      "text/html": "<div>\n<style scoped>\n    .dataframe tbody tr th:only-of-type {\n        vertical-align: middle;\n    }\n\n    .dataframe tbody tr th {\n        vertical-align: top;\n    }\n\n    .dataframe thead th {\n        text-align: right;\n    }\n</style>\n<table border=\"1\" class=\"dataframe\">\n  <thead>\n    <tr style=\"text-align: right;\">\n      <th></th>\n      <th>Inj_0</th>\n      <th>Int_0</th>\n      <th>Inj_1</th>\n      <th>Int_1</th>\n      <th>Inj_2</th>\n      <th>Int_2</th>\n      <th>Inj_3</th>\n      <th>Int_3</th>\n      <th>Inj_4</th>\n      <th>Int_4</th>\n      <th>Inj_5</th>\n      <th>Int_5</th>\n      <th>Inj_6</th>\n      <th>Int_6</th>\n      <th>Inj_7</th>\n      <th>Int_7</th>\n      <th>Inj_8</th>\n      <th>Int_8</th>\n      <th>Inj_9</th>\n      <th>Int_9</th>\n    </tr>\n  </thead>\n  <tbody>\n    <tr>\n      <th>1</th>\n      <td>252.0</td>\n      <td>402.0</td>\n      <td>552.0</td>\n      <td>702.0</td>\n      <td>852.0</td>\n      <td>1002.0</td>\n      <td>1152.0</td>\n      <td>1302.0</td>\n      <td>1452.0</td>\n      <td>1602.0</td>\n      <td>1752.0</td>\n      <td>1902.0</td>\n      <td>2052.0</td>\n      <td>2202.0</td>\n      <td>2352.0</td>\n      <td>2502.0</td>\n      <td>2652.0</td>\n      <td>2802.0</td>\n      <td>2952.0</td>\n      <td>3102.0</td>\n    </tr>\n    <tr>\n      <th>2</th>\n      <td>151.0</td>\n      <td>301.0</td>\n      <td>451.0</td>\n      <td>601.0</td>\n      <td>751.0</td>\n      <td>901.0</td>\n      <td>1051.0</td>\n      <td>1201.0</td>\n      <td>1351.0</td>\n      <td>1501.0</td>\n      <td>1651.0</td>\n      <td>1801.0</td>\n      <td>1951.0</td>\n      <td>2101.0</td>\n      <td>2251.0</td>\n      <td>2401.0</td>\n      <td>2551.0</td>\n      <td>2701.0</td>\n      <td>2851.0</td>\n      <td>3001.0</td>\n    </tr>\n    <tr>\n      <th>3</th>\n      <td>42.0</td>\n      <td>192.0</td>\n      <td>342.0</td>\n      <td>492.0</td>\n      <td>642.0</td>\n      <td>792.0</td>\n      <td>942.0</td>\n      <td>1092.0</td>\n      <td>1242.0</td>\n      <td>1392.0</td>\n      <td>1542.0</td>\n      <td>1692.0</td>\n      <td>1842.0</td>\n      <td>1992.0</td>\n      <td>2142.0</td>\n      <td>2292.0</td>\n      <td>2442.0</td>\n      <td>2592.0</td>\n      <td>2742.0</td>\n      <td>2892.0</td>\n    </tr>\n    <tr>\n      <th>4</th>\n      <td>66.0</td>\n      <td>216.0</td>\n      <td>366.0</td>\n      <td>516.0</td>\n      <td>666.0</td>\n      <td>816.0</td>\n      <td>966.0</td>\n      <td>1116.0</td>\n      <td>1266.0</td>\n      <td>1416.0</td>\n      <td>1566.0</td>\n      <td>1716.0</td>\n      <td>1866.0</td>\n      <td>2016.0</td>\n      <td>2166.0</td>\n      <td>2316.0</td>\n      <td>2466.0</td>\n      <td>2616.0</td>\n      <td>2766.0</td>\n      <td>2916.0</td>\n    </tr>\n    <tr>\n      <th>5</th>\n      <td>70.0</td>\n      <td>220.0</td>\n      <td>370.0</td>\n      <td>520.0</td>\n      <td>670.0</td>\n      <td>820.0</td>\n      <td>970.0</td>\n      <td>1120.0</td>\n      <td>1270.0</td>\n      <td>1420.0</td>\n      <td>1570.0</td>\n      <td>1720.0</td>\n      <td>1870.0</td>\n      <td>2020.0</td>\n      <td>2170.0</td>\n      <td>2320.0</td>\n      <td>2470.0</td>\n      <td>2620.0</td>\n      <td>2770.0</td>\n      <td>2920.0</td>\n    </tr>\n    <tr>\n      <th>6</th>\n      <td>73.0</td>\n      <td>223.0</td>\n      <td>373.0</td>\n      <td>523.0</td>\n      <td>673.0</td>\n      <td>823.0</td>\n      <td>973.0</td>\n      <td>1123.0</td>\n      <td>1273.0</td>\n      <td>1423.0</td>\n      <td>1573.0</td>\n      <td>1723.0</td>\n      <td>1873.0</td>\n      <td>2023.0</td>\n      <td>2173.0</td>\n      <td>2323.0</td>\n      <td>2473.0</td>\n      <td>2623.0</td>\n      <td>2773.0</td>\n      <td>2923.0</td>\n    </tr>\n    <tr>\n      <th>7</th>\n      <td>18.0</td>\n      <td>168.0</td>\n      <td>318.0</td>\n      <td>468.0</td>\n      <td>618.0</td>\n      <td>768.0</td>\n      <td>918.0</td>\n      <td>1068.0</td>\n      <td>1218.0</td>\n      <td>1368.0</td>\n      <td>1518.0</td>\n      <td>1668.0</td>\n      <td>1818.0</td>\n      <td>1968.0</td>\n      <td>2118.0</td>\n      <td>2268.0</td>\n      <td>2418.0</td>\n      <td>2568.0</td>\n      <td>2718.0</td>\n      <td>2868.0</td>\n    </tr>\n    <tr>\n      <th>8</th>\n      <td>229.0</td>\n      <td>379.0</td>\n      <td>529.0</td>\n      <td>679.0</td>\n      <td>829.0</td>\n      <td>979.0</td>\n      <td>1129.0</td>\n      <td>1279.0</td>\n      <td>1429.0</td>\n      <td>1579.0</td>\n      <td>1729.0</td>\n      <td>1879.0</td>\n      <td>2029.0</td>\n      <td>2179.0</td>\n      <td>2329.0</td>\n      <td>2479.0</td>\n      <td>2629.0</td>\n      <td>2779.0</td>\n      <td>2929.0</td>\n      <td>3079.0</td>\n    </tr>\n    <tr>\n      <th>9</th>\n      <td>57.0</td>\n      <td>207.0</td>\n      <td>357.0</td>\n      <td>507.0</td>\n      <td>657.0</td>\n      <td>807.0</td>\n      <td>957.0</td>\n      <td>1107.0</td>\n      <td>1257.0</td>\n      <td>1407.0</td>\n      <td>1557.0</td>\n      <td>1707.0</td>\n      <td>1857.0</td>\n      <td>2007.0</td>\n      <td>2157.0</td>\n      <td>2307.0</td>\n      <td>2457.0</td>\n      <td>2607.0</td>\n      <td>2757.0</td>\n      <td>2907.0</td>\n    </tr>\n    <tr>\n      <th>10</th>\n      <td>72.0</td>\n      <td>222.0</td>\n      <td>372.0</td>\n      <td>522.0</td>\n      <td>672.0</td>\n      <td>822.0</td>\n      <td>972.0</td>\n      <td>1122.0</td>\n      <td>1272.0</td>\n      <td>1422.0</td>\n      <td>1572.0</td>\n      <td>1722.0</td>\n      <td>1872.0</td>\n      <td>2022.0</td>\n      <td>2172.0</td>\n      <td>2322.0</td>\n      <td>2472.0</td>\n      <td>2622.0</td>\n      <td>2772.0</td>\n      <td>2922.0</td>\n    </tr>\n  </tbody>\n</table>\n</div>"
     },
     "execution_count": 30,
     "metadata": {},
     "output_type": "execute_result"
    }
   ],
   "source": [
    "inj_int_sheet.head(10)"
   ],
   "metadata": {
    "collapsed": false,
    "pycharm": {
     "name": "#%%\n"
    }
   }
  },
  {
   "cell_type": "code",
   "execution_count": 31,
   "outputs": [],
   "source": [
    "def sum_vel(sum_v, flag_v, tmp_v):\n",
    "    flag_v += np.where(np.isnan(tmp_v), 0, 1)\n",
    "    sum_v = np.nansum(np.stack([sum_v, tmp_v]), axis=0)\n",
    "\n",
    "    return sum_v, flag_v"
   ],
   "metadata": {
    "collapsed": false,
    "pycharm": {
     "name": "#%%\n"
    }
   }
  },
  {
   "cell_type": "code",
   "execution_count": 32,
   "outputs": [
    {
     "name": "stderr",
     "output_type": "stream",
     "text": [
      "100%|██████████| 5/5 [00:25<00:00,  5.16s/it]\n",
      "100%|██████████| 5/5 [00:25<00:00,  5.06s/it]\n",
      "100%|██████████| 5/5 [00:24<00:00,  4.99s/it]\n"
     ]
    }
   ],
   "source": [
    "cnt = 0\n",
    "\n",
    "for q in range(3):\n",
    "    sum_dx = np.zeros((32, 32))\n",
    "    sum_dy = np.zeros((32, 32))\n",
    "    flag_dx = np.zeros((32, 32))\n",
    "    flag_dy = np.zeros((32, 32))\n",
    "\n",
    "    for t in tqdm(range(5)):\n",
    "        # 9T\n",
    "        for n in range(9):\n",
    "            # determine 1T\n",
    "            inj_l = int(inj_int_sheet.iloc[cnt, 2 * n])\n",
    "\n",
    "            # sum dX during 1T\n",
    "            for i in range(inj_l, inj_l + 300):\n",
    "                tmp_dx = np.loadtxt(DIR[cnt] + f\"dx_{i}_{i+1}.csv\", delimiter=',')\n",
    "                tmp_dy = np.loadtxt(DIR[cnt] + f\"dy_{i}_{i+1}.csv\", delimiter=',')\n",
    "\n",
    "                sum_dx, flag_dx = sum_vel(sum_dx, flag_dx, tmp_dx)\n",
    "                sum_dy, flag_dy = sum_vel(sum_dy, flag_dy, tmp_dy)\n",
    "\n",
    "        # +1T\n",
    "        inj_l = int(inj_int_sheet.iloc[cnt, 18])\n",
    "\n",
    "        if inj_l + 300 < 3201:\n",
    "            for i in range(inj_l, inj_l + 300):\n",
    "                tmp_dx = np.loadtxt(DIR[cnt] + f\"dx_{i}_{i+1}.csv\", delimiter=',')\n",
    "                tmp_dy = np.loadtxt(DIR[cnt] + f\"dy_{i}_{i+1}.csv\", delimiter=',')\n",
    "\n",
    "                sum_dx, flag_dx = sum_vel(sum_dx, flag_dx, tmp_dx)\n",
    "                sum_dy, flag_dy = sum_vel(sum_dy, flag_dy, tmp_dy)\n",
    "\n",
    "        else:\n",
    "            for i in range(inj_l, 3201):  # right\n",
    "                tmp_dx = np.loadtxt(DIR[cnt] + f\"dx_{i}_{i+1}.csv\", delimiter=',')\n",
    "                tmp_dy = np.loadtxt(DIR[cnt] + f\"dy_{i}_{i+1}.csv\", delimiter=',')\n",
    "\n",
    "                sum_dx, flag_dx = sum_vel(sum_dx, flag_dx, tmp_dx)\n",
    "                sum_dy, flag_dy = sum_vel(sum_dy, flag_dy, tmp_dy)\n",
    "\n",
    "            l = int(inj_int_sheet.iloc[cnt, 0]) - (300 + inj_l - 3201)\n",
    "\n",
    "            for i in range(l, int(inj_int_sheet.iloc[cnt, 0])):  # left\n",
    "                tmp_dx = np.loadtxt(DIR[cnt] + f\"dx_{i}_{i+1}.csv\", delimiter=',')\n",
    "                tmp_dy = np.loadtxt(DIR[cnt] + f\"dy_{i}_{i+1}.csv\", delimiter=',')\n",
    "\n",
    "                sum_dx, flag_dx = sum_vel(sum_dx, flag_dx, tmp_dx)\n",
    "                sum_dy, flag_dy = sum_vel(sum_dy, flag_dy, tmp_dy)\n",
    "\n",
    "        cnt += 1\n",
    "\n",
    "    # average dX during 1T\n",
    "    ave_dx = sum_dx / flag_dx\n",
    "    ave_dy = sum_dy / flag_dy\n",
    "\n",
    "    # save as csv\n",
    "    np.savetxt(f\"/media/lfc/ボリューム/M1/result/2022_02_08/post/gx_32_gy_32_t_32_s_64_th_70/500_500_{q+1}_dx.csv\", ave_dx, delimiter=',')\n",
    "    np.savetxt(f\"/media/lfc/ボリューム/M1/result/2022_02_08/post/gx_32_gy_32_t_32_s_64_th_70/500_500_{q+1}_dy.csv\", ave_dy, delimiter=',')"
   ],
   "metadata": {
    "collapsed": false,
    "pycharm": {
     "name": "#%%\n"
    }
   }
  },
  {
   "cell_type": "code",
   "execution_count": 33,
   "outputs": [
    {
     "name": "stderr",
     "output_type": "stream",
     "text": [
      "100%|██████████| 5/5 [11:51<00:00, 142.30s/it]\n"
     ]
    }
   ],
   "source": [
    "sum_dx = np.zeros((32, 32))\n",
    "sum_dy = np.zeros((32, 32))\n",
    "flag_dx = np.zeros((32, 32))\n",
    "flag_dy = np.zeros((32, 32))\n",
    "\n",
    "for t in tqdm(range(5)):\n",
    "    for n in range(4):  # 4T\n",
    "        inj_l = int(inj_int_sheet.iloc[cnt, 2 * n])\n",
    "\n",
    "        for i in range(inj_l, inj_l + 600):\n",
    "            tmp_dx = np.loadtxt(DIR[cnt] + f\"dx_{i}_{i+1}.csv\", delimiter=',')\n",
    "            tmp_dy = np.loadtxt(DIR[cnt] + f\"dy_{i}_{i+1}.csv\", delimiter=',')\n",
    "\n",
    "            sum_dx, flag_dx = sum_vel(sum_dx, flag_dx, tmp_dx)\n",
    "            sum_dy, flag_dy = sum_vel(sum_dy, flag_dy, tmp_dy)\n",
    "\n",
    "    inj_l = int(inj_int_sheet.iloc[cnt, 8])\n",
    "\n",
    "    if inj_l + 600 < 3201:\n",
    "        for i in range(inj_l, inj_l + 600):\n",
    "            tmp_dx = np.loadtxt(DIR[cnt] + f\"dx_{i}_{i+1}.csv\", delimiter=',')\n",
    "            tmp_dy = np.loadtxt(DIR[cnt] + f\"dy_{i}_{i+1}.csv\", delimiter=',')\n",
    "\n",
    "            sum_dx, flag_dx = sum_vel(sum_dx, flag_dx, tmp_dx)\n",
    "            sum_dy, flag_dy = sum_vel(sum_dy, flag_dy, tmp_dy)\n",
    "\n",
    "    else:\n",
    "        for i in range(inj_l, 3201):  # right\n",
    "            tmp_dx = np.loadtxt(DIR[cnt] + f\"dx_{i}_{i+1}.csv\", delimiter=',')\n",
    "            tmp_dy = np.loadtxt(DIR[cnt] + f\"dy_{i}_{i+1}.csv\", delimiter=',')\n",
    "\n",
    "            sum_dx, flag_dx = sum_vel(sum_dx, flag_dx, tmp_dx)\n",
    "            sum_dy, flag_dy = sum_vel(sum_dy, flag_dy, tmp_dy)\n",
    "\n",
    "        l = int(inj_int_sheet.iloc[cnt, 0]) - (600 + inj_l - 3201)\n",
    "\n",
    "        for i in range(l, int(inj_int_sheet.iloc[cnt, 0])):  # left\n",
    "            tmp_dx = np.loadtxt(DIR[cnt] + f\"dx_{i}_{i+1}.csv\", delimiter=',')\n",
    "            tmp_dy = np.loadtxt(DIR[cnt] + f\"dy_{i}_{i+1}.csv\", delimiter=',')\n",
    "\n",
    "            sum_dx, flag_dx = sum_vel(sum_dx, flag_dx, tmp_dx)\n",
    "            sum_dy, flag_dy = sum_vel(sum_dy, flag_dy, tmp_dy)\n",
    "\n",
    "    cnt += 1\n",
    "\n",
    "# average dX during 1T\n",
    "ave_dx = sum_dx / flag_dx\n",
    "ave_dy = sum_dy / flag_dy\n",
    "\n",
    "# save as csv\n",
    "np.savetxt(f\"/media/lfc/ボリューム/M1/result/2022_02_08/post/gx_32_gy_32_t_32_s_64_th_70/500_1500_1_dx.csv\", ave_dx, delimiter=',')\n",
    "np.savetxt(f\"/media/lfc/ボリューム/M1/result/2022_02_08/post/gx_32_gy_32_t_32_s_64_th_70/500_1500_1_dy.csv\", ave_dy, delimiter=',')"
   ],
   "metadata": {
    "collapsed": false,
    "pycharm": {
     "name": "#%%\n"
    }
   }
  },
  {
   "cell_type": "code",
   "execution_count": 34,
   "outputs": [],
   "source": [
    "cnt += 1"
   ],
   "metadata": {
    "collapsed": false,
    "pycharm": {
     "name": "#%%\n"
    }
   }
  },
  {
   "cell_type": "code",
   "execution_count": 35,
   "outputs": [
    {
     "name": "stderr",
     "output_type": "stream",
     "text": [
      "100%|██████████| 5/5 [18:22<00:00, 220.55s/it]\n",
      "100%|██████████| 5/5 [20:34<00:00, 246.91s/it]\n"
     ]
    }
   ],
   "source": [
    "for q in range(2, 4):\n",
    "    sum_dx = np.zeros((32, 32))\n",
    "    sum_dy = np.zeros((32, 32))\n",
    "    flag_dx = np.zeros((32, 32))\n",
    "    flag_dy = np.zeros((32, 32))\n",
    "\n",
    "    for t in tqdm(range(5)):\n",
    "        for n in range(4):  # 4T\n",
    "            inj_l = int(inj_int_sheet.iloc[cnt, 2 * n])\n",
    "\n",
    "            for i in range(inj_l, inj_l + 600):\n",
    "                tmp_dx = np.loadtxt(DIR[cnt] + f\"dx_{i}_{i+1}.csv\", delimiter=',')\n",
    "                tmp_dy = np.loadtxt(DIR[cnt] + f\"dy_{i}_{i+1}.csv\", delimiter=',')\n",
    "\n",
    "                sum_dx, flag_dx = sum_vel(sum_dx, flag_dx, tmp_dx)\n",
    "                sum_dy, flag_dy = sum_vel(sum_dy, flag_dy, tmp_dy)\n",
    "\n",
    "        inj_l = int(inj_int_sheet.iloc[cnt, 8])\n",
    "\n",
    "        if inj_l + 600 < 3201:\n",
    "            for i in range(inj_l, inj_l + 600):\n",
    "                tmp_dx = np.loadtxt(DIR[cnt] + f\"dx_{i}_{i+1}.csv\", delimiter=',')\n",
    "                tmp_dy = np.loadtxt(DIR[cnt] + f\"dy_{i}_{i+1}.csv\", delimiter=',')\n",
    "\n",
    "                sum_dx, flag_dx = sum_vel(sum_dx, flag_dx, tmp_dx)\n",
    "                sum_dy, flag_dy = sum_vel(sum_dy, flag_dy, tmp_dy)\n",
    "\n",
    "        else:\n",
    "            for i in range(inj_l, 3201):  # right\n",
    "                tmp_dx = np.loadtxt(DIR[cnt] + f\"dx_{i}_{i+1}.csv\", delimiter=',')\n",
    "                tmp_dy = np.loadtxt(DIR[cnt] + f\"dy_{i}_{i+1}.csv\", delimiter=',')\n",
    "\n",
    "                sum_dx, flag_dx = sum_vel(sum_dx, flag_dx, tmp_dx)\n",
    "                sum_dy, flag_dy = sum_vel(sum_dy, flag_dy, tmp_dy)\n",
    "\n",
    "            l = int(inj_int_sheet.iloc[cnt, 0]) - (600 + inj_l - 3201)\n",
    "\n",
    "            for i in range(l, int(inj_int_sheet.iloc[cnt, 0])):  # left\n",
    "                tmp_dx = np.loadtxt(DIR[cnt] + f\"dx_{i}_{i+1}.csv\", delimiter=',')\n",
    "                tmp_dy = np.loadtxt(DIR[cnt] + f\"dy_{i}_{i+1}.csv\", delimiter=',')\n",
    "\n",
    "                sum_dx, flag_dx = sum_vel(sum_dx, flag_dx, tmp_dx)\n",
    "                sum_dy, flag_dy = sum_vel(sum_dy, flag_dy, tmp_dy)\n",
    "\n",
    "        cnt += 1\n",
    "\n",
    "    # average dX during 1T\n",
    "    ave_dx = sum_dx / flag_dx\n",
    "    ave_dy = sum_dy / flag_dy\n",
    "\n",
    "    # save as csv\n",
    "    np.savetxt(f\"/media/lfc/ボリューム/M1/result/2022_02_08/post/gx_32_gy_32_t_32_s_64_th_70/500_1500_{q}_dx.csv\", ave_dx, delimiter=',')\n",
    "    np.savetxt(f\"/media/lfc/ボリューム/M1/result/2022_02_08/post/gx_32_gy_32_t_32_s_64_th_70/500_1500_{q}_dy.csv\", ave_dy, delimiter=',')"
   ],
   "metadata": {
    "collapsed": false,
    "pycharm": {
     "name": "#%%\n"
    }
   }
  },
  {
   "cell_type": "code",
   "execution_count": 36,
   "outputs": [
    {
     "name": "stderr",
     "output_type": "stream",
     "text": [
      "100%|██████████| 5/5 [08:51<00:00, 106.35s/it]\n",
      "100%|██████████| 5/5 [04:17<00:00, 51.47s/it]\n",
      "100%|██████████| 5/5 [00:46<00:00,  9.28s/it]\n"
     ]
    }
   ],
   "source": [
    "for q in range(1, 4):\n",
    "    sum_dx = np.zeros((32, 32))\n",
    "    sum_dy = np.zeros((32, 32))\n",
    "    flag_dx = np.zeros((32, 32))\n",
    "    flag_dy = np.zeros((32, 32))\n",
    "\n",
    "    for t in tqdm(range(5)):\n",
    "        for n in range(6):  # 6T\n",
    "            inj_l = int(inj_int_sheet.iloc[cnt, 2 * n])\n",
    "\n",
    "            for i in range(inj_l, inj_l + 450):\n",
    "                tmp_dx = np.loadtxt(DIR[cnt] + f\"dx_{i}_{i+1}.csv\", delimiter=',')\n",
    "                tmp_dy = np.loadtxt(DIR[cnt] + f\"dy_{i}_{i+1}.csv\", delimiter=',')\n",
    "\n",
    "                sum_dx, flag_dx = sum_vel(sum_dx, flag_dx, tmp_dx)\n",
    "                sum_dy, flag_dy = sum_vel(sum_dy, flag_dy, tmp_dy)\n",
    "\n",
    "        inj_l = int(inj_int_sheet.iloc[cnt, 12])\n",
    "\n",
    "        if inj_l + 450 < 3201:\n",
    "            for i in range(inj_l, inj_l + 450):\n",
    "                tmp_dx = np.loadtxt(DIR[cnt] + f\"dx_{i}_{i+1}.csv\", delimiter=',')\n",
    "                tmp_dy = np.loadtxt(DIR[cnt] + f\"dy_{i}_{i+1}.csv\", delimiter=',')\n",
    "\n",
    "                sum_dx, flag_dx = sum_vel(sum_dx, flag_dx, tmp_dx)\n",
    "                sum_dy, flag_dy = sum_vel(sum_dy, flag_dy, tmp_dy)\n",
    "\n",
    "        else:\n",
    "            for i in range(inj_l, 3201):  # right\n",
    "                tmp_dx = np.loadtxt(DIR[cnt] + f\"dx_{i}_{i+1}.csv\", delimiter=',')\n",
    "                tmp_dy = np.loadtxt(DIR[cnt] + f\"dy_{i}_{i+1}.csv\", delimiter=',')\n",
    "\n",
    "                sum_dx, flag_dx = sum_vel(sum_dx, flag_dx, tmp_dx)\n",
    "                sum_dy, flag_dy = sum_vel(sum_dy, flag_dy, tmp_dy)\n",
    "\n",
    "            l = int(inj_int_sheet.iloc[cnt, 0]) - (450 + inj_l - 3201)\n",
    "\n",
    "            for i in range(l, int(inj_int_sheet.iloc[cnt, 0])):  # left\n",
    "                tmp_dx = np.loadtxt(DIR[cnt] + f\"dx_{i}_{i+1}.csv\", delimiter=',')\n",
    "                tmp_dy = np.loadtxt(DIR[cnt] + f\"dy_{i}_{i+1}.csv\", delimiter=',')\n",
    "\n",
    "                sum_dx, flag_dx = sum_vel(sum_dx, flag_dx, tmp_dx)\n",
    "                sum_dy, flag_dy = sum_vel(sum_dy, flag_dy, tmp_dy)\n",
    "\n",
    "        cnt += 1\n",
    "\n",
    "    # average dX during 1T\n",
    "    ave_dx = sum_dx / flag_dx\n",
    "    ave_dy = sum_dy / flag_dy\n",
    "\n",
    "    # save as csv\n",
    "    np.savetxt(f\"/media/lfc/ボリューム/M1/result/2022_02_08/post/gx_32_gy_32_t_32_s_64_th_70/500_1000_{q}_dx.csv\", ave_dx, delimiter=',')\n",
    "    np.savetxt(f\"/media/lfc/ボリューム/M1/result/2022_02_08/post/gx_32_gy_32_t_32_s_64_th_70/500_1000_{q}_dy.csv\", ave_dy, delimiter=',')"
   ],
   "metadata": {
    "collapsed": false,
    "pycharm": {
     "name": "#%%\n"
    }
   }
  }
 ],
 "metadata": {
  "kernelspec": {
   "display_name": "Python 3",
   "language": "python",
   "name": "python3"
  },
  "language_info": {
   "codemirror_mode": {
    "name": "ipython",
    "version": 2
   },
   "file_extension": ".py",
   "mimetype": "text/x-python",
   "name": "python",
   "nbconvert_exporter": "python",
   "pygments_lexer": "ipython2",
   "version": "2.7.6"
  }
 },
 "nbformat": 4,
 "nbformat_minor": 0
}