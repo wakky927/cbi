{
 "cells": [
  {
   "cell_type": "code",
   "execution_count": 1,
   "metadata": {
    "collapsed": true
   },
   "outputs": [],
   "source": [
    "from matplotlib import pyplot as plt\n",
    "import numpy as np\n",
    "import pandas as pd\n",
    "from tqdm import tqdm"
   ]
  },
  {
   "cell_type": "code",
   "execution_count": 2,
   "outputs": [],
   "source": [
    "SUPER = \"/media/lfc/ボリューム/M1/result/2022_02_08/piv/gx_32_gy_32_t_32_s_64_th_70/\"\n",
    "DIR = [SUPER + f\"_{i}/\" for i in range(1, 47)]"
   ],
   "metadata": {
    "collapsed": false,
    "pycharm": {
     "name": "#%%\n"
    }
   }
  },
  {
   "cell_type": "code",
   "execution_count": 3,
   "outputs": [],
   "source": [
    "inj_int_sheet = pd.read_csv(\"inj_int.csv\", index_col=0)"
   ],
   "metadata": {
    "collapsed": false,
    "pycharm": {
     "name": "#%%\n"
    }
   }
  },
  {
   "cell_type": "code",
   "execution_count": 4,
   "outputs": [],
   "source": [
    "cnt = 0"
   ],
   "metadata": {
    "collapsed": false,
    "pycharm": {
     "name": "#%%\n"
    }
   }
  },
  {
   "cell_type": "code",
   "execution_count": 5,
   "outputs": [
    {
     "name": "stderr",
     "output_type": "stream",
     "text": [
      "100%|██████████| 5/5 [00:00<00:00, 4431.85it/s]\n",
      "/home/lfc/anaconda3/envs/venv/lib/python3.7/site-packages/ipykernel_launcher.py:50: RuntimeWarning: Mean of empty slice\n",
      "/home/lfc/anaconda3/envs/venv/lib/python3.7/site-packages/ipykernel_launcher.py:51: RuntimeWarning: Mean of empty slice\n",
      "/home/lfc/anaconda3/envs/venv/lib/python3.7/site-packages/numpy/lib/nanfunctions.py:1671: RuntimeWarning: Degrees of freedom <= 0 for slice.\n",
      "  keepdims=keepdims)\n",
      "100%|██████████| 5/5 [00:00<00:00, 4201.03it/s]\n",
      "100%|██████████| 5/5 [00:00<00:00, 2970.47it/s]\n"
     ]
    }
   ],
   "source": [
    "for q in range(1, 4):\n",
    "    stack_dx = np.zeros((1, 32))\n",
    "    stack_dy = np.zeros((1, 32))\n",
    "\n",
    "    for t in tqdm(range(5)):\n",
    "        # 9T\n",
    "        for n in range(9):\n",
    "            # determine 1T\n",
    "            inj_l = int(inj_int_sheet.iloc[cnt, 2 * n])\n",
    "        #\n",
    "        #     # sum dX during 1T\n",
    "        #     for i in range(inj_l, inj_l + 300):\n",
    "        #         tmp_dx = np.loadtxt(DIR[cnt] + f\"dx_{i}_{i+1}.csv\", delimiter=',')\n",
    "        #         tmp_dy = np.loadtxt(DIR[cnt] + f\"dy_{i}_{i+1}.csv\", delimiter=',')\n",
    "        #\n",
    "        #         stack_dx = np.vstack([stack_dx, tmp_dx[-1].reshape(1, -1)])\n",
    "        #         stack_dy = np.vstack([stack_dy, tmp_dy[-1].reshape(1, -1)])\n",
    "        #\n",
    "        # # +1T\n",
    "        # inj_l = int(inj_int_sheet.iloc[cnt, 18])\n",
    "        #\n",
    "        # if inj_l + 300 < 3201:\n",
    "        #     for i in range(inj_l, inj_l + 300):\n",
    "        #         tmp_dx = np.loadtxt(DIR[cnt] + f\"dx_{i}_{i+1}.csv\", delimiter=',')\n",
    "        #         tmp_dy = np.loadtxt(DIR[cnt] + f\"dy_{i}_{i+1}.csv\", delimiter=',')\n",
    "        #\n",
    "        #         stack_dx = np.vstack([stack_dx, tmp_dx[-1].reshape(1, -1)])\n",
    "        #         stack_dy = np.vstack([stack_dy, tmp_dy[-1].reshape(1, -1)])\n",
    "        #\n",
    "        # else:\n",
    "        #     for i in range(inj_l, 3201):  # right\n",
    "        #         tmp_dx = np.loadtxt(DIR[cnt] + f\"dx_{i}_{i+1}.csv\", delimiter=',')\n",
    "        #         tmp_dy = np.loadtxt(DIR[cnt] + f\"dy_{i}_{i+1}.csv\", delimiter=',')\n",
    "        #\n",
    "        #         stack_dx = np.vstack([stack_dx, tmp_dx[-1].reshape(1, -1)])\n",
    "        #         stack_dy = np.vstack([stack_dy, tmp_dy[-1].reshape(1, -1)])\n",
    "        #\n",
    "        #     l = int(inj_int_sheet.iloc[cnt, 0]) - (300 + inj_l - 3201)\n",
    "        #\n",
    "        #     for i in range(l, int(inj_int_sheet.iloc[cnt, 0])):  # left\n",
    "        #         tmp_dx = np.loadtxt(DIR[cnt] + f\"dx_{i}_{i+1}.csv\", delimiter=',')\n",
    "        #         tmp_dy = np.loadtxt(DIR[cnt] + f\"dy_{i}_{i+1}.csv\", delimiter=',')\n",
    "        #\n",
    "        #         stack_dx = np.vstack([stack_dx, tmp_dx[-1].reshape(1, -1)])\n",
    "        #         stack_dy = np.vstack([stack_dy, tmp_dy[-1].reshape(1, -1)])\n",
    "\n",
    "        cnt += 1\n",
    "\n",
    "    # mean & std dX during 1T\n",
    "    ave_dx = np.nanmean(stack_dx[1:], axis=0)\n",
    "    ave_dy = np.nanmean(stack_dy[1:], axis=0)\n",
    "    std_dx = np.nanstd(stack_dx[1:], axis=0)\n",
    "    std_dy = np.nanstd(stack_dy[1:], axis=0)\n",
    "\n",
    "    # save as csv\n",
    "    # np.savetxt(f\"/media/lfc/ボリューム/M1/result/2022_02_08/post/gx_32_gy_32_t_32_s_64_th_70/surface/ave_500_500_{q}_dx.csv\", ave_dx, delimiter=',')\n",
    "    # np.savetxt(f\"/media/lfc/ボリューム/M1/result/2022_02_08/post/gx_32_gy_32_t_32_s_64_th_70/surface/ave_500_500_{q}_dy.csv\", ave_dy, delimiter=',')\n",
    "    # np.savetxt(f\"/media/lfc/ボリューム/M1/result/2022_02_08/post/gx_32_gy_32_t_32_s_64_th_70/surface/std_500_500_{q}_dx.csv\", std_dx, delimiter=',')\n",
    "    # np.savetxt(f\"/media/lfc/ボリューム/M1/result/2022_02_08/post/gx_32_gy_32_t_32_s_64_th_70/surface/std_500_500_{q}_dy.csv\", std_dy, delimiter=',')"
   ],
   "metadata": {
    "collapsed": false,
    "pycharm": {
     "name": "#%%\n"
    }
   }
  },
  {
   "cell_type": "code",
   "execution_count": 6,
   "outputs": [
    {
     "name": "stderr",
     "output_type": "stream",
     "text": [
      "100%|██████████| 5/5 [00:00<00:00, 7735.71it/s]\n"
     ]
    }
   ],
   "source": [
    "stack_dx = np.zeros((1, 32))\n",
    "stack_dy = np.zeros((1, 32))\n",
    "\n",
    "for t in tqdm(range(5)):\n",
    "    # 4T\n",
    "    for n in range(4):\n",
    "        # determine 1T\n",
    "        inj_l = int(inj_int_sheet.iloc[cnt, 2 * n])\n",
    "    #\n",
    "    #     # sum dX during 1T\n",
    "    #     for i in range(inj_l, inj_l + 600):\n",
    "    #         tmp_dx = np.loadtxt(DIR[cnt] + f\"dx_{i}_{i+1}.csv\", delimiter=',')\n",
    "    #         tmp_dy = np.loadtxt(DIR[cnt] + f\"dy_{i}_{i+1}.csv\", delimiter=',')\n",
    "    #\n",
    "    #         stack_dx = np.vstack([stack_dx, tmp_dx[-1].reshape(1, -1)])\n",
    "    #         stack_dy = np.vstack([stack_dy, tmp_dy[-1].reshape(1, -1)])\n",
    "    #\n",
    "    # # +1T\n",
    "    # inj_l = int(inj_int_sheet.iloc[cnt, 8])\n",
    "    #\n",
    "    # if inj_l + 600 < 3201:\n",
    "    #     for i in range(inj_l, inj_l + 600):\n",
    "    #         tmp_dx = np.loadtxt(DIR[cnt] + f\"dx_{i}_{i+1}.csv\", delimiter=',')\n",
    "    #         tmp_dy = np.loadtxt(DIR[cnt] + f\"dy_{i}_{i+1}.csv\", delimiter=',')\n",
    "    #\n",
    "    #         stack_dx = np.vstack([stack_dx, tmp_dx[-1].reshape(1, -1)])\n",
    "    #         stack_dy = np.vstack([stack_dy, tmp_dy[-1].reshape(1, -1)])\n",
    "    #\n",
    "    # else:\n",
    "    #     for i in range(inj_l, 3201):  # right\n",
    "    #         tmp_dx = np.loadtxt(DIR[cnt] + f\"dx_{i}_{i+1}.csv\", delimiter=',')\n",
    "    #         tmp_dy = np.loadtxt(DIR[cnt] + f\"dy_{i}_{i+1}.csv\", delimiter=',')\n",
    "    #\n",
    "    #         stack_dx = np.vstack([stack_dx, tmp_dx[-1].reshape(1, -1)])\n",
    "    #         stack_dy = np.vstack([stack_dy, tmp_dy[-1].reshape(1, -1)])\n",
    "    #\n",
    "    #     l = int(inj_int_sheet.iloc[cnt, 0]) - (600 + inj_l - 3201)\n",
    "    #\n",
    "    #     for i in range(l, int(inj_int_sheet.iloc[cnt, 0])):  # left\n",
    "    #         tmp_dx = np.loadtxt(DIR[cnt] + f\"dx_{i}_{i+1}.csv\", delimiter=',')\n",
    "    #         tmp_dy = np.loadtxt(DIR[cnt] + f\"dy_{i}_{i+1}.csv\", delimiter=',')\n",
    "    #\n",
    "    #         stack_dx = np.vstack([stack_dx, tmp_dx[-1].reshape(1, -1)])\n",
    "    #         stack_dy = np.vstack([stack_dy, tmp_dy[-1].reshape(1, -1)])\n",
    "\n",
    "    cnt += 1\n",
    "\n",
    "# mean & std dX during 1T\n",
    "# ave_dx = np.nanmean(stack_dx[1:], axis=0)\n",
    "# ave_dy = np.nanmean(stack_dy[1:], axis=0)\n",
    "# std_dx = np.nanstd(stack_dx[1:], axis=0)\n",
    "# std_dy = np.nanstd(stack_dy[1:], axis=0)\n",
    "\n",
    "# save as csv\n",
    "# np.savetxt(f\"/media/lfc/ボリューム/M1/result/2022_02_08/post/gx_32_gy_32_t_32_s_64_th_70/surface/ave_500_1500_1_dx.csv\", ave_dx, delimiter=',')\n",
    "# np.savetxt(f\"/media/lfc/ボリューム/M1/result/2022_02_08/post/gx_32_gy_32_t_32_s_64_th_70/surface/ave_500_1500_1_dy.csv\", ave_dy, delimiter=',')\n",
    "# np.savetxt(f\"/media/lfc/ボリューム/M1/result/2022_02_08/post/gx_32_gy_32_t_32_s_64_th_70/surface/std_500_1500_1_dx.csv\", std_dx, delimiter=',')\n",
    "# np.savetxt(f\"/media/lfc/ボリューム/M1/result/2022_02_08/post/gx_32_gy_32_t_32_s_64_th_70/surface/std_500_1500_1_dy.csv\", std_dy, delimiter=',')"
   ],
   "metadata": {
    "collapsed": false,
    "pycharm": {
     "name": "#%%\n"
    }
   }
  },
  {
   "cell_type": "code",
   "execution_count": 7,
   "outputs": [],
   "source": [
    "cnt += 1"
   ],
   "metadata": {
    "collapsed": false,
    "pycharm": {
     "name": "#%%\n"
    }
   }
  },
  {
   "cell_type": "code",
   "execution_count": 8,
   "outputs": [
    {
     "name": "stderr",
     "output_type": "stream",
     "text": [
      "100%|██████████| 5/5 [10:14<00:00, 122.86s/it]\n",
      "100%|██████████| 5/5 [10:35<00:00, 127.09s/it]\n"
     ]
    }
   ],
   "source": [
    "for q in range(2, 4):\n",
    "    stack_dx = np.zeros((1, 32))\n",
    "    stack_dy = np.zeros((1, 32))\n",
    "\n",
    "    for t in tqdm(range(5)):\n",
    "        # 4T\n",
    "        for n in range(4):\n",
    "            # determine 1T\n",
    "            inj_l = int(inj_int_sheet.iloc[cnt, 2 * n])\n",
    "\n",
    "            # sum dX during 1T\n",
    "            for i in range(inj_l, inj_l + 600):\n",
    "                tmp_dx = np.loadtxt(DIR[cnt] + f\"dx_{i}_{i+1}.csv\", delimiter=',')\n",
    "                tmp_dy = np.loadtxt(DIR[cnt] + f\"dy_{i}_{i+1}.csv\", delimiter=',')\n",
    "\n",
    "                stack_dx = np.vstack([stack_dx, tmp_dx[-1].reshape(1, -1)])\n",
    "                stack_dy = np.vstack([stack_dy, tmp_dy[-1].reshape(1, -1)])\n",
    "\n",
    "        # +1T\n",
    "        inj_l = int(inj_int_sheet.iloc[cnt, 8])\n",
    "\n",
    "        if inj_l + 600 < 3201:\n",
    "            for i in range(inj_l, inj_l + 600):\n",
    "                tmp_dx = np.loadtxt(DIR[cnt] + f\"dx_{i}_{i+1}.csv\", delimiter=',')\n",
    "                tmp_dy = np.loadtxt(DIR[cnt] + f\"dy_{i}_{i+1}.csv\", delimiter=',')\n",
    "\n",
    "                stack_dx = np.vstack([stack_dx, tmp_dx[-1].reshape(1, -1)])\n",
    "                stack_dy = np.vstack([stack_dy, tmp_dy[-1].reshape(1, -1)])\n",
    "\n",
    "        else:\n",
    "            for i in range(inj_l, 3201):  # right\n",
    "                tmp_dx = np.loadtxt(DIR[cnt] + f\"dx_{i}_{i+1}.csv\", delimiter=',')\n",
    "                tmp_dy = np.loadtxt(DIR[cnt] + f\"dy_{i}_{i+1}.csv\", delimiter=',')\n",
    "\n",
    "                stack_dx = np.vstack([stack_dx, tmp_dx[-1].reshape(1, -1)])\n",
    "                stack_dy = np.vstack([stack_dy, tmp_dy[-1].reshape(1, -1)])\n",
    "\n",
    "            l = int(inj_int_sheet.iloc[cnt, 0]) - (600 + inj_l - 3201)\n",
    "\n",
    "            for i in range(l, int(inj_int_sheet.iloc[cnt, 0])):  # left\n",
    "                tmp_dx = np.loadtxt(DIR[cnt] + f\"dx_{i}_{i+1}.csv\", delimiter=',')\n",
    "                tmp_dy = np.loadtxt(DIR[cnt] + f\"dy_{i}_{i+1}.csv\", delimiter=',')\n",
    "\n",
    "                stack_dx = np.vstack([stack_dx, tmp_dx[-1].reshape(1, -1)])\n",
    "                stack_dy = np.vstack([stack_dy, tmp_dy[-1].reshape(1, -1)])\n",
    "\n",
    "        cnt += 1\n",
    "\n",
    "    # mean & std dX during 1T\n",
    "    ave_dx = np.nanmean(stack_dx[1:], axis=0)\n",
    "    ave_dy = np.nanmean(stack_dy[1:], axis=0)\n",
    "    std_dx = np.nanstd(stack_dx[1:], axis=0)\n",
    "    std_dy = np.nanstd(stack_dy[1:], axis=0)\n",
    "\n",
    "    # save as csv\n",
    "    np.savetxt(f\"/media/lfc/ボリューム/M1/result/2022_02_08/post/gx_32_gy_32_t_32_s_64_th_70/surface/ave_500_1500_{q}_dx.csv\", ave_dx, delimiter=',')\n",
    "    np.savetxt(f\"/media/lfc/ボリューム/M1/result/2022_02_08/post/gx_32_gy_32_t_32_s_64_th_70/surface/ave_500_1500_{q}_dy.csv\", ave_dy, delimiter=',')\n",
    "    np.savetxt(f\"/media/lfc/ボリューム/M1/result/2022_02_08/post/gx_32_gy_32_t_32_s_64_th_70/surface/std_500_1500_{q}_dx.csv\", std_dx, delimiter=',')\n",
    "    np.savetxt(f\"/media/lfc/ボリューム/M1/result/2022_02_08/post/gx_32_gy_32_t_32_s_64_th_70/surface/std_500_1500_{q}_dy.csv\", std_dy, delimiter=',')"
   ],
   "metadata": {
    "collapsed": false,
    "pycharm": {
     "name": "#%%\n"
    }
   }
  },
  {
   "cell_type": "code",
   "execution_count": 9,
   "outputs": [
    {
     "name": "stderr",
     "output_type": "stream",
     "text": [
      "100%|██████████| 5/5 [08:54<00:00, 106.82s/it]\n",
      "100%|██████████| 5/5 [08:57<00:00, 107.41s/it]\n",
      "100%|██████████| 5/5 [08:39<00:00, 103.81s/it]\n"
     ]
    }
   ],
   "source": [
    "for q in range(1, 4):\n",
    "    stack_dx = np.zeros((1, 32))\n",
    "    stack_dy = np.zeros((1, 32))\n",
    "\n",
    "    for t in tqdm(range(5)):\n",
    "        # 6T\n",
    "        for n in range(6):\n",
    "            # determine 1T\n",
    "            inj_l = int(inj_int_sheet.iloc[cnt, 2 * n])\n",
    "\n",
    "            # sum dX during 1T\n",
    "            for i in range(inj_l, inj_l + 450):\n",
    "                tmp_dx = np.loadtxt(DIR[cnt] + f\"dx_{i}_{i+1}.csv\", delimiter=',')\n",
    "                tmp_dy = np.loadtxt(DIR[cnt] + f\"dy_{i}_{i+1}.csv\", delimiter=',')\n",
    "\n",
    "                stack_dx = np.vstack([stack_dx, tmp_dx[-1].reshape(1, -1)])\n",
    "                stack_dy = np.vstack([stack_dy, tmp_dy[-1].reshape(1, -1)])\n",
    "\n",
    "        # +1T\n",
    "        inj_l = int(inj_int_sheet.iloc[cnt, 12])\n",
    "\n",
    "        if inj_l + 450 < 3201:\n",
    "            for i in range(inj_l, inj_l + 450):\n",
    "                tmp_dx = np.loadtxt(DIR[cnt] + f\"dx_{i}_{i+1}.csv\", delimiter=',')\n",
    "                tmp_dy = np.loadtxt(DIR[cnt] + f\"dy_{i}_{i+1}.csv\", delimiter=',')\n",
    "\n",
    "                stack_dx = np.vstack([stack_dx, tmp_dx[-1].reshape(1, -1)])\n",
    "                stack_dy = np.vstack([stack_dy, tmp_dy[-1].reshape(1, -1)])\n",
    "\n",
    "        else:\n",
    "            for i in range(inj_l, 3201):  # right\n",
    "                tmp_dx = np.loadtxt(DIR[cnt] + f\"dx_{i}_{i+1}.csv\", delimiter=',')\n",
    "                tmp_dy = np.loadtxt(DIR[cnt] + f\"dy_{i}_{i+1}.csv\", delimiter=',')\n",
    "\n",
    "                stack_dx = np.vstack([stack_dx, tmp_dx[-1].reshape(1, -1)])\n",
    "                stack_dy = np.vstack([stack_dy, tmp_dy[-1].reshape(1, -1)])\n",
    "\n",
    "            l = int(inj_int_sheet.iloc[cnt, 0]) - (450 + inj_l - 3201)\n",
    "\n",
    "            for i in range(l, int(inj_int_sheet.iloc[cnt, 0])):  # left\n",
    "                tmp_dx = np.loadtxt(DIR[cnt] + f\"dx_{i}_{i+1}.csv\", delimiter=',')\n",
    "                tmp_dy = np.loadtxt(DIR[cnt] + f\"dy_{i}_{i+1}.csv\", delimiter=',')\n",
    "\n",
    "                stack_dx = np.vstack([stack_dx, tmp_dx[-1].reshape(1, -1)])\n",
    "                stack_dy = np.vstack([stack_dy, tmp_dy[-1].reshape(1, -1)])\n",
    "\n",
    "        cnt += 1\n",
    "\n",
    "    # mean & std dX during 1T\n",
    "    ave_dx = np.nanmean(stack_dx[1:], axis=0)\n",
    "    ave_dy = np.nanmean(stack_dy[1:], axis=0)\n",
    "    std_dx = np.nanstd(stack_dx[1:], axis=0)\n",
    "    std_dy = np.nanstd(stack_dy[1:], axis=0)\n",
    "\n",
    "    # save as csv\n",
    "    np.savetxt(f\"/media/lfc/ボリューム/M1/result/2022_02_08/post/gx_32_gy_32_t_32_s_64_th_70/surface/ave_500_1000_{q}_dx.csv\", ave_dx, delimiter=',')\n",
    "    np.savetxt(f\"/media/lfc/ボリューム/M1/result/2022_02_08/post/gx_32_gy_32_t_32_s_64_th_70/surface/ave_500_1000_{q}_dy.csv\", ave_dy, delimiter=',')\n",
    "    np.savetxt(f\"/media/lfc/ボリューム/M1/result/2022_02_08/post/gx_32_gy_32_t_32_s_64_th_70/surface/std_500_1000_{q}_dx.csv\", std_dx, delimiter=',')\n",
    "    np.savetxt(f\"/media/lfc/ボリューム/M1/result/2022_02_08/post/gx_32_gy_32_t_32_s_64_th_70/surface/std_500_1000_{q}_dy.csv\", std_dy, delimiter=',')"
   ],
   "metadata": {
    "collapsed": false,
    "pycharm": {
     "name": "#%%\n"
    }
   }
  }
 ],
 "metadata": {
  "kernelspec": {
   "display_name": "Python 3",
   "language": "python",
   "name": "python3"
  },
  "language_info": {
   "codemirror_mode": {
    "name": "ipython",
    "version": 2
   },
   "file_extension": ".py",
   "mimetype": "text/x-python",
   "name": "python",
   "nbconvert_exporter": "python",
   "pygments_lexer": "ipython2",
   "version": "2.7.6"
  }
 },
 "nbformat": 4,
 "nbformat_minor": 0
}