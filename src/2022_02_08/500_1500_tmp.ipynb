{
 "cells": [
  {
   "cell_type": "code",
   "execution_count": 6,
   "metadata": {
    "collapsed": true
   },
   "outputs": [],
   "source": [
    "from matplotlib import pyplot as plt\n",
    "import numpy as np\n",
    "import pandas as pd\n",
    "from tqdm import tqdm"
   ]
  },
  {
   "cell_type": "code",
   "execution_count": 7,
   "outputs": [],
   "source": [
    "SUPER = \"/media/lfc/ボリューム/M1/result/2022_02_08/piv/gx_32_gy_32_t_32_s_64_th_70/\"\n",
    "DIR = [SUPER + f\"_{i}/\" for i in range(1, 47)]"
   ],
   "metadata": {
    "collapsed": false,
    "pycharm": {
     "name": "#%%\n"
    }
   }
  },
  {
   "cell_type": "code",
   "execution_count": 8,
   "outputs": [],
   "source": [
    "inj_int_sheet = pd.read_csv(\"inj_int.csv\", index_col=0)"
   ],
   "metadata": {
    "collapsed": false,
    "pycharm": {
     "name": "#%%\n"
    }
   }
  },
  {
   "cell_type": "code",
   "execution_count": 9,
   "outputs": [],
   "source": [
    "def sum_vel(sum_v, flag_v, tmp_v):\n",
    "    flag_v += np.where(np.isnan(tmp_v), 0, 1)\n",
    "    sum_v = np.nansum(np.stack([sum_v, tmp_v]), axis=0)\n",
    "\n",
    "    return sum_v, flag_v"
   ],
   "metadata": {
    "collapsed": false,
    "pycharm": {
     "name": "#%%\n"
    }
   }
  },
  {
   "cell_type": "code",
   "execution_count": 10,
   "outputs": [
    {
     "name": "stderr",
     "output_type": "stream",
     "text": [
      " 14%|█▍        | 43/300 [01:41<09:36,  2.24s/it]/home/lfc/anaconda3/envs/venv/lib/python3.7/site-packages/ipykernel_launcher.py:37: RuntimeWarning: invalid value encountered in true_divide\n",
      "/home/lfc/anaconda3/envs/venv/lib/python3.7/site-packages/ipykernel_launcher.py:38: RuntimeWarning: invalid value encountered in true_divide\n",
      "100%|██████████| 300/300 [10:11<00:00,  2.04s/it]\n"
     ]
    }
   ],
   "source": [
    "for i in tqdm(range(0, 300)):\n",
    "    sum_dx = np.zeros((32, 32))\n",
    "    sum_dy = np.zeros((32, 32))\n",
    "    flag_dx = np.zeros((32, 32))\n",
    "    flag_dy = np.zeros((32, 32))\n",
    "\n",
    "    for t in range(5):\n",
    "        j = 5 * 3 + t\n",
    "\n",
    "        for n in range(4):  # 4T\n",
    "            inj_l = int(inj_int_sheet.iloc[j, 2 * n])\n",
    "\n",
    "            tmp_dx = np.loadtxt(DIR[j] + f\"dx_{inj_l+i}_{inj_l+i+1}.csv\", delimiter=',')\n",
    "            tmp_dy = np.loadtxt(DIR[j] + f\"dy_{inj_l+i}_{inj_l+i+1}.csv\", delimiter=',')\n",
    "\n",
    "            sum_dx, flag_dx = sum_vel(sum_dx, flag_dx, tmp_dx)\n",
    "            sum_dy, flag_dy = sum_vel(sum_dy, flag_dy, tmp_dy)\n",
    "\n",
    "        inj_l = int(inj_int_sheet.iloc[j, 8])\n",
    "\n",
    "        if inj_l + i < 3201:\n",
    "            tmp_dx = np.loadtxt(DIR[j] + f\"dx_{inj_l+i}_{inj_l+i+1}.csv\", delimiter=',')\n",
    "            tmp_dy = np.loadtxt(DIR[j] + f\"dy_{inj_l+i}_{inj_l+i+1}.csv\", delimiter=',')\n",
    "\n",
    "            sum_dx, flag_dx = sum_vel(sum_dx, flag_dx, tmp_dx)\n",
    "            sum_dy, flag_dy = sum_vel(sum_dy, flag_dy, tmp_dy)\n",
    "\n",
    "        else:\n",
    "            inj_l = int(inj_int_sheet.iloc[j, 0]) - (600 + inj_l - 3201)\n",
    "\n",
    "            tmp_dx = np.loadtxt(DIR[j] + f\"dx_{inj_l+i}_{inj_l+i+1}.csv\", delimiter=',')\n",
    "            tmp_dy = np.loadtxt(DIR[j] + f\"dy_{inj_l+i}_{inj_l+i+1}.csv\", delimiter=',')\n",
    "\n",
    "            sum_dx, flag_dx = sum_vel(sum_dx, flag_dx, tmp_dx)\n",
    "            sum_dy, flag_dy = sum_vel(sum_dy, flag_dy, tmp_dy)\n",
    "\n",
    "    ave_dx = sum_dx / flag_dx\n",
    "    ave_dy = sum_dy / flag_dy\n",
    "\n",
    "    np.savetxt(f\"/media/lfc/ボリューム/M1/result/2022_02_08/post/gx_32_gy_32_t_32_s_64_th_70/500_1500/1/dx_{i}_{i+1}.csv\", ave_dx, delimiter=',')\n",
    "    np.savetxt(f\"/media/lfc/ボリューム/M1/result/2022_02_08/post/gx_32_gy_32_t_32_s_64_th_70/500_1500/1/dy_{i}_{i+1}.csv\", ave_dy, delimiter=',')"
   ],
   "metadata": {
    "collapsed": false,
    "pycharm": {
     "name": "#%%\n"
    }
   }
  },
  {
   "cell_type": "code",
   "execution_count": 11,
   "outputs": [
    {
     "name": "stderr",
     "output_type": "stream",
     "text": [
      "  7%|▋         | 41/600 [01:35<19:43,  2.12s/it]/home/lfc/anaconda3/envs/venv/lib/python3.7/site-packages/ipykernel_launcher.py:38: RuntimeWarning: invalid value encountered in true_divide\n",
      "/home/lfc/anaconda3/envs/venv/lib/python3.7/site-packages/ipykernel_launcher.py:39: RuntimeWarning: invalid value encountered in true_divide\n",
      "100%|██████████| 600/600 [22:00<00:00,  2.20s/it]\n",
      "100%|██████████| 600/600 [10:57<00:00,  1.10s/it]\n"
     ]
    }
   ],
   "source": [
    "for q in range(4, 6):\n",
    "    for i in tqdm(range(0, 600)):\n",
    "        sum_dx = np.zeros((32, 32))\n",
    "        sum_dy = np.zeros((32, 32))\n",
    "        flag_dx = np.zeros((32, 32))\n",
    "        flag_dy = np.zeros((32, 32))\n",
    "\n",
    "        for t in range(5):\n",
    "            j = 5 * q + t + 1\n",
    "\n",
    "            for n in range(4):  # 4T\n",
    "                inj_l = int(inj_int_sheet.iloc[j, 2 * n])\n",
    "\n",
    "                tmp_dx = np.loadtxt(DIR[j] + f\"dx_{inj_l+i}_{inj_l+i+1}.csv\", delimiter=',')\n",
    "                tmp_dy = np.loadtxt(DIR[j] + f\"dy_{inj_l+i}_{inj_l+i+1}.csv\", delimiter=',')\n",
    "\n",
    "                sum_dx, flag_dx = sum_vel(sum_dx, flag_dx, tmp_dx)\n",
    "                sum_dy, flag_dy = sum_vel(sum_dy, flag_dy, tmp_dy)\n",
    "\n",
    "            inj_l = int(inj_int_sheet.iloc[j, 8])\n",
    "\n",
    "            if inj_l + i < 3201:\n",
    "                tmp_dx = np.loadtxt(DIR[j] + f\"dx_{inj_l+i}_{inj_l+i+1}.csv\", delimiter=',')\n",
    "                tmp_dy = np.loadtxt(DIR[j] + f\"dy_{inj_l+i}_{inj_l+i+1}.csv\", delimiter=',')\n",
    "\n",
    "                sum_dx, flag_dx = sum_vel(sum_dx, flag_dx, tmp_dx)\n",
    "                sum_dy, flag_dy = sum_vel(sum_dy, flag_dy, tmp_dy)\n",
    "\n",
    "            else:\n",
    "                inj_l = int(inj_int_sheet.iloc[j, 0]) - (600 + inj_l - 3201)\n",
    "\n",
    "                tmp_dx = np.loadtxt(DIR[j] + f\"dx_{inj_l+i}_{inj_l+i+1}.csv\", delimiter=',')\n",
    "                tmp_dy = np.loadtxt(DIR[j] + f\"dy_{inj_l+i}_{inj_l+i+1}.csv\", delimiter=',')\n",
    "\n",
    "                sum_dx, flag_dx = sum_vel(sum_dx, flag_dx, tmp_dx)\n",
    "                sum_dy, flag_dy = sum_vel(sum_dy, flag_dy, tmp_dy)\n",
    "\n",
    "        ave_dx = sum_dx / flag_dx\n",
    "        ave_dy = sum_dy / flag_dy\n",
    "\n",
    "        np.savetxt(f\"/media/lfc/ボリューム/M1/result/2022_02_08/post/gx_32_gy_32_t_32_s_64_th_70/500_1500/{q-2}/dx_{i}_{i+1}.csv\", ave_dx, delimiter=',')\n",
    "        np.savetxt(f\"/media/lfc/ボリューム/M1/result/2022_02_08/post/gx_32_gy_32_t_32_s_64_th_70/500_1500/{q-2}/dy_{i}_{i+1}.csv\", ave_dy, delimiter=',')"
   ],
   "metadata": {
    "collapsed": false,
    "pycharm": {
     "name": "#%%\n"
    }
   }
  }
 ],
 "metadata": {
  "kernelspec": {
   "display_name": "Python 3",
   "language": "python",
   "name": "python3"
  },
  "language_info": {
   "codemirror_mode": {
    "name": "ipython",
    "version": 2
   },
   "file_extension": ".py",
   "mimetype": "text/x-python",
   "name": "python",
   "nbconvert_exporter": "python",
   "pygments_lexer": "ipython2",
   "version": "2.7.6"
  }
 },
 "nbformat": 4,
 "nbformat_minor": 0
}