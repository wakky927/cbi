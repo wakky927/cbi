{
 "cells": [
  {
   "cell_type": "code",
   "execution_count": 1,
   "metadata": {
    "collapsed": true
   },
   "outputs": [],
   "source": [
    "from matplotlib import pyplot as plt\n",
    "import numpy as np\n",
    "import pandas as pd\n",
    "from tqdm import tqdm"
   ]
  },
  {
   "cell_type": "code",
   "execution_count": 2,
   "outputs": [],
   "source": [
    "SUPER = \"/media/lfc/ボリューム/M1/result/2022_02_08/piv/gx_48_gy_48_t_48_s_48_th_60/\"\n",
    "DIR = [SUPER + f\"_{i}/\" for i in range(1, 47)]"
   ],
   "metadata": {
    "collapsed": false,
    "pycharm": {
     "name": "#%%\n"
    }
   }
  },
  {
   "cell_type": "code",
   "execution_count": 3,
   "outputs": [],
   "source": [
    "inj_int_sheet = pd.read_csv(\"inj_int.csv\", index_col=0)"
   ],
   "metadata": {
    "collapsed": false,
    "pycharm": {
     "name": "#%%\n"
    }
   }
  },
  {
   "cell_type": "code",
   "execution_count": 4,
   "outputs": [],
   "source": [
    "def sum_vel(sum_v, flag_v, tmp_v):\n",
    "    flag_v += np.where(np.isnan(tmp_v), 0, 1)\n",
    "    sum_v = np.nansum(np.stack([sum_v, tmp_v]), axis=0)\n",
    "\n",
    "    return sum_v, flag_v"
   ],
   "metadata": {
    "collapsed": false,
    "pycharm": {
     "name": "#%%\n"
    }
   }
  },
  {
   "cell_type": "code",
   "execution_count": null,
   "outputs": [],
   "source": [
    "for q in range(3):\n",
    "    for i in range(0, 300):\n",
    "        sum_dx = np.zeros((48, 48))\n",
    "        sum_dy = np.zeros((48, 48))\n",
    "        flag_dx = np.zeros((48, 48))\n",
    "        flag_dy = np.zeros((48, 48))\n",
    "\n",
    "        for t in range(5):\n",
    "            for n in tqdm(range(9)):  # 9T\n",
    "                inj_l = int(inj_int_sheet.iloc[5 * q + t, 2 * n])\n",
    "\n",
    "                tmp_dx = np.loadtxt(DIR[5 * q + t] + f\"dx_{inj_l+i}_{inj_l+i+1}.csv\", delimiter=',')\n",
    "                tmp_dy = np.loadtxt(DIR[5 * q + t] + f\"dy_{inj_l+i}_{inj_l+i+1}.csv\", delimiter=',')\n",
    "\n",
    "                sum_dx, flag_dx = sum_vel(sum_dx, flag_dx, tmp_dx)\n",
    "                sum_dy, flag_dy = sum_vel(sum_dy, flag_dy, tmp_dy)\n",
    "\n",
    "            inj_l = int(inj_int_sheet.iloc[5 * q + t, 18])\n",
    "\n",
    "            if inj_l + i < 3201:\n",
    "                tmp_dx = np.loadtxt(DIR[5 * q + t] + f\"dx_{inj_l+i}_{inj_l+i+1}.csv\", delimiter=',')\n",
    "                tmp_dy = np.loadtxt(DIR[5 * q + t] + f\"dy_{inj_l+i}_{inj_l+i+1}.csv\", delimiter=',')\n",
    "\n",
    "                sum_dx, flag_dx = sum_vel(sum_dx, flag_dx, tmp_dx)\n",
    "                sum_dy, flag_dy = sum_vel(sum_dy, flag_dy, tmp_dy)\n",
    "\n",
    "            else:\n",
    "                inj_l = int(inj_int_sheet.iloc[5 * q + t, 0]) - (300 + inj_l - 3201)\n",
    "\n",
    "                tmp_dx = np.loadtxt(DIR[5 * q + t] + f\"dx_{inj_l+i}_{inj_l+i+1}.csv\", delimiter=',')\n",
    "                tmp_dy = np.loadtxt(DIR[5 * q + t] + f\"dy_{inj_l+i}_{inj_l+i+1}.csv\", delimiter=',')\n",
    "\n",
    "                sum_dx, flag_dx = sum_vel(sum_dx, flag_dx, tmp_dx)\n",
    "                sum_dy, flag_dy = sum_vel(sum_dy, flag_dy, tmp_dy)\n",
    "\n",
    "        ave_dx = sum_dx / flag_dx\n",
    "        ave_dy = sum_dy / flag_dy\n",
    "\n",
    "        np.savetxt(f\"/media/lfc/ボリューム/M1/result/2022_02_08/post/gx_48_gy_48_t_48_s_48_th_60/500_500/{q+1}/{i}_dx.csv\", ave_dx, delimiter=',')\n",
    "        np.savetxt(f\"/media/lfc/ボリューム/M1/result/2022_02_08/post/gx_48_gy_48_t_48_s_48_th_60/500_500/{q+1}/{i}_dy.csv\", ave_dy, delimiter=',')"
   ],
   "metadata": {
    "collapsed": false,
    "pycharm": {
     "name": "#%%\n"
    }
   }
  }
 ],
 "metadata": {
  "kernelspec": {
   "display_name": "Python 3",
   "language": "python",
   "name": "python3"
  },
  "language_info": {
   "codemirror_mode": {
    "name": "ipython",
    "version": 2
   },
   "file_extension": ".py",
   "mimetype": "text/x-python",
   "name": "python",
   "nbconvert_exporter": "python",
   "pygments_lexer": "ipython2",
   "version": "2.7.6"
  }
 },
 "nbformat": 4,
 "nbformat_minor": 0
}