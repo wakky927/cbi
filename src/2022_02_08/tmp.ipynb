{
 "cells": [
  {
   "cell_type": "code",
   "execution_count": 13,
   "metadata": {
    "collapsed": true,
    "pycharm": {
     "name": "#%%\n"
    }
   },
   "outputs": [],
   "source": [
    "from matplotlib import pyplot as plt\n",
    "import numpy as np\n",
    "from tqdm import tqdm\n",
    "\n",
    "from modules import calib"
   ]
  },
  {
   "cell_type": "code",
   "execution_count": 14,
   "outputs": [],
   "source": [
    "# IN_DIR = \"/media/takuya/exHDD/M1/result/2022_02_08/post/gx_32_gy_32_t_32_s_64_th_70/\"\n",
    "# OUT_DIR = \"/media/takuya/exHDD/M1/result/2022_02_08/graph/gx_32_gy_32_t_32_s_64_th_70/\"\n",
    "IN_DIR = \"F:\\\\M1\\\\result\\\\2022_02_08\\\\post\\\\gx_32_gy_32_t_32_s_64_th_70\\\\\"\n",
    "OUT_DIR = \"F:\\\\M1\\\\result\\\\2022_02_08\\\\graph\\\\gx_32_gy_32_t_32_s_64_th_70\\\\\""
   ],
   "metadata": {
    "collapsed": false,
    "pycharm": {
     "name": "#%%\n"
    }
   }
  },
  {
   "cell_type": "code",
   "execution_count": null,
   "outputs": [],
   "source": [
    "def graph(dx, dy, out_path):\n",
    "    width, height = 739, 693\n",
    "    n = 32\n",
    "\n",
    "    x, y = np.meshgrid(np.linspace(693, -46, n, dtype=\"int\"), np.linspace(0, height, n, dtype=\"int\"))\n",
    "    x = calib.px2mm(x)\n",
    "    y = calib.px2mm(y)\n",
    "\n",
    "    fig, ax = plt.subplots(facecolor=\"#333333\", figsize=(36, 30))\n",
    "\n",
    "    ax.set_facecolor('#ffffff')\n",
    "    ax.spines['top'].set_color('#ffffff')\n",
    "    ax.spines['bottom'].set_color('#ffffff')\n",
    "    ax.spines['left'].set_color('#ffffff')\n",
    "    ax.spines['right'].set_color('#ffffff')\n",
    "    ax.tick_params(axis='x', colors='#ffffff')\n",
    "    ax.tick_params(axis='y', colors='#ffffff')\n",
    "    ax.xaxis.label.set_color('#ffffff')\n",
    "    ax.yaxis.label.set_color('#ffffff')\n",
    "\n",
    "    plt.xlabel(\"$r$ [mm]\", fontsize=100)\n",
    "    plt.ylabel(\"$z$ [mm]\", fontsize=100)\n",
    "    plt.xticks(fontsize=100)\n",
    "    plt.yticks(fontsize=100)\n",
    "    c = np.sqrt(dx ** 2 + dy ** 2)\n",
    "\n",
    "    dx /= c\n",
    "    dy /= c\n",
    "\n",
    "    x = x[:, :-2]\n",
    "    y = y[:, :-2]\n",
    "    dx = dx[:, :-2]\n",
    "    dy = dy[:, :-2]\n",
    "    c = c[:, :-2]\n",
    "\n",
    "    im = ax.quiver(x, y, -dx, dy, c, cmap=\"jet\", scale_units='xy', scale=0.12, width=0.0045)\n",
    "\n",
    "    pp = fig.colorbar(im)\n",
    "    for tt in pp.ax.get_yticklabels():\n",
    "        tt.set_fontsize(100)\n",
    "    pp.set_label('$\\sqrt{u^2+v^2}$ [mm/s]', fontsize=100, color='#ffffff')\n",
    "    pp.ax.yaxis.set_tick_params(color='#ffffff')\n",
    "    plt.setp(plt.getp(pp.ax.axes, 'yticklabels'), color='#ffffff')\n",
    "    pp.outline.set_edgecolor('#ffffff')\n",
    "    im.set_clim(0, 120)\n",
    "    plt.show()\n",
    "    fig.savefig('tmp.png', dpi=80)\n",
    "\n",
    "    # plt.cla()\n",
    "    # plt.clf()\n",
    "    # plt.close()"
   ],
   "metadata": {
    "collapsed": false,
    "pycharm": {
     "name": "#%%\n"
    }
   }
  },
  {
   "cell_type": "code",
   "execution_count": null,
   "outputs": [],
   "source": [
    "for t in tqdm(range(500, 501, 500)):\n",
    "    for q in range(1, 2):\n",
    "        for i in range(0, 1):\n",
    "            ave_dx = calib.f2s(calib.px2mm(np.loadtxt(IN_DIR + f\"500_{t}/{q}/dx_{i}_{i+1}.csv\", delimiter=',')))\n",
    "            ave_dy = calib.f2s(calib.px2mm(np.loadtxt(IN_DIR + f\"500_{t}/{q}/dy_{i}_{i+1}.csv\", delimiter=',')))\n",
    "\n",
    "            graph(dx=ave_dx, dy=ave_dy, out_path=OUT_DIR+f\"500_{t}/{q}/dx_dy_{i}_{i+1}.png\")"
   ],
   "metadata": {
    "collapsed": false,
    "pycharm": {
     "name": "#%%\n"
    }
   }
  },
  {
   "cell_type": "code",
   "execution_count": null,
   "outputs": [],
   "source": [],
   "metadata": {
    "collapsed": false,
    "pycharm": {
     "name": "#%%\n"
    }
   }
  }
 ],
 "metadata": {
  "kernelspec": {
   "display_name": "Python 3",
   "language": "python",
   "name": "python3"
  },
  "language_info": {
   "codemirror_mode": {
    "name": "ipython",
    "version": 2
   },
   "file_extension": ".py",
   "mimetype": "text/x-python",
   "name": "python",
   "nbconvert_exporter": "python",
   "pygments_lexer": "ipython2",
   "version": "2.7.6"
  }
 },
 "nbformat": 4,
 "nbformat_minor": 0
}